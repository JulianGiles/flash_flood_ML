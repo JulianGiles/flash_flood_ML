{
 "cells": [
  {
   "cell_type": "markdown",
   "id": "e68cd4f6",
   "metadata": {},
   "source": [
    "# Prueba piloto con datos de alrededor de Justiniano Posse"
   ]
  },
  {
   "cell_type": "markdown",
   "id": "1f163e9a",
   "metadata": {},
   "source": [
    "La idea en esta notebook es testear modelos para intentar predecir el caudal del río en Dique Aforador, usando datos de las estaciones en Justiniano Posse y Monte Buey"
   ]
  },
  {
   "cell_type": "code",
   "execution_count": 2,
   "id": "67a7509b",
   "metadata": {},
   "outputs": [],
   "source": [
    "# Load packages\n",
    "import sys\n",
    "\n",
    "import matplotlib\n",
    "\n",
    "import matplotlib.pyplot as plt\n",
    "import cartopy\n",
    "import cartopy.crs as ccrs\n",
    "import cartopy.feature\n",
    "from cartopy.mpl.ticker import LongitudeFormatter, LatitudeFormatter\n",
    "import numpy as np\n",
    "from numpy import ma \n",
    "import pandas as pd\n",
    "import xarray as xr\n",
    "from datetime import datetime\n",
    "import matplotlib.colors as mcolors\n",
    "import os\n",
    "from matplotlib import gridspec\n",
    "import seaborn as sns\n",
    "import re"
   ]
  },
  {
   "cell_type": "markdown",
   "id": "7fad6e21",
   "metadata": {},
   "source": [
    "Cargamos los datos de ERA5 por si los llegamos a necesitar"
   ]
  },
  {
   "cell_type": "code",
   "execution_count": 3,
   "id": "5c84a409",
   "metadata": {},
   "outputs": [],
   "source": [
    "# ERA5-Land data\n",
    "era5land_path = '/datosfreyja/d1/GDATA/ERA5-Land/'\n",
    "era5land = xr.open_mfdataset(era5land_path+'*/*.nc')"
   ]
  },
  {
   "cell_type": "markdown",
   "id": "74b7fd82",
   "metadata": {},
   "source": [
    "Ajusto las variables acumuladas y paso a hora local"
   ]
  },
  {
   "cell_type": "code",
   "execution_count": 4,
   "id": "8b648f1f",
   "metadata": {},
   "outputs": [],
   "source": [
    "vars_to_adjust = ['tp', 'ro', 'sro']\n",
    "\n",
    "era5land_adjusted = dict()\n",
    "for var in list(era5land.data_vars):\n",
    "    if var in vars_to_adjust:\n",
    "        era5land_adjusted[var] = ( era5land[var] - era5land[var].shift({'time':1}, fill_value=0 )*(era5land['time']['time.hour']!=1) )/1000\n",
    "        #se divide por mil al final de la cuenta porque estas variables de ERA5 están en 'm' y no en 'mm'\n",
    "    else:\n",
    "        era5land_adjusted[var] = era5land[var]"
   ]
  },
  {
   "cell_type": "code",
   "execution_count": 5,
   "id": "fa9bbb3a",
   "metadata": {},
   "outputs": [],
   "source": [
    "era5land_adjusted_ds = xr.Dataset(era5land_adjusted)"
   ]
  },
  {
   "cell_type": "code",
   "execution_count": 6,
   "id": "a94a51d8",
   "metadata": {},
   "outputs": [],
   "source": [
    "era5land_adjusted_ds['time'] = era5land_adjusted_ds['time'] - 3 * 3600000000000 #pasamos a hora local"
   ]
  },
  {
   "cell_type": "code",
   "execution_count": 7,
   "id": "1f6f20f5",
   "metadata": {},
   "outputs": [
    {
     "data": {
      "text/html": [
       "<div><svg style=\"position: absolute; width: 0; height: 0; overflow: hidden\">\n",
       "<defs>\n",
       "<symbol id=\"icon-database\" viewBox=\"0 0 32 32\">\n",
       "<path d=\"M16 0c-8.837 0-16 2.239-16 5v4c0 2.761 7.163 5 16 5s16-2.239 16-5v-4c0-2.761-7.163-5-16-5z\"></path>\n",
       "<path d=\"M16 17c-8.837 0-16-2.239-16-5v6c0 2.761 7.163 5 16 5s16-2.239 16-5v-6c0 2.761-7.163 5-16 5z\"></path>\n",
       "<path d=\"M16 26c-8.837 0-16-2.239-16-5v6c0 2.761 7.163 5 16 5s16-2.239 16-5v-6c0 2.761-7.163 5-16 5z\"></path>\n",
       "</symbol>\n",
       "<symbol id=\"icon-file-text2\" viewBox=\"0 0 32 32\">\n",
       "<path d=\"M28.681 7.159c-0.694-0.947-1.662-2.053-2.724-3.116s-2.169-2.030-3.116-2.724c-1.612-1.182-2.393-1.319-2.841-1.319h-15.5c-1.378 0-2.5 1.121-2.5 2.5v27c0 1.378 1.122 2.5 2.5 2.5h23c1.378 0 2.5-1.122 2.5-2.5v-19.5c0-0.448-0.137-1.23-1.319-2.841zM24.543 5.457c0.959 0.959 1.712 1.825 2.268 2.543h-4.811v-4.811c0.718 0.556 1.584 1.309 2.543 2.268zM28 29.5c0 0.271-0.229 0.5-0.5 0.5h-23c-0.271 0-0.5-0.229-0.5-0.5v-27c0-0.271 0.229-0.5 0.5-0.5 0 0 15.499-0 15.5 0v7c0 0.552 0.448 1 1 1h7v19.5z\"></path>\n",
       "<path d=\"M23 26h-14c-0.552 0-1-0.448-1-1s0.448-1 1-1h14c0.552 0 1 0.448 1 1s-0.448 1-1 1z\"></path>\n",
       "<path d=\"M23 22h-14c-0.552 0-1-0.448-1-1s0.448-1 1-1h14c0.552 0 1 0.448 1 1s-0.448 1-1 1z\"></path>\n",
       "<path d=\"M23 18h-14c-0.552 0-1-0.448-1-1s0.448-1 1-1h14c0.552 0 1 0.448 1 1s-0.448 1-1 1z\"></path>\n",
       "</symbol>\n",
       "</defs>\n",
       "</svg>\n",
       "<style>/* CSS stylesheet for displaying xarray objects in jupyterlab.\n",
       " *\n",
       " */\n",
       "\n",
       ":root {\n",
       "  --xr-font-color0: var(--jp-content-font-color0, rgba(0, 0, 0, 1));\n",
       "  --xr-font-color2: var(--jp-content-font-color2, rgba(0, 0, 0, 0.54));\n",
       "  --xr-font-color3: var(--jp-content-font-color3, rgba(0, 0, 0, 0.38));\n",
       "  --xr-border-color: var(--jp-border-color2, #e0e0e0);\n",
       "  --xr-disabled-color: var(--jp-layout-color3, #bdbdbd);\n",
       "  --xr-background-color: var(--jp-layout-color0, white);\n",
       "  --xr-background-color-row-even: var(--jp-layout-color1, white);\n",
       "  --xr-background-color-row-odd: var(--jp-layout-color2, #eeeeee);\n",
       "}\n",
       "\n",
       "html[theme=dark],\n",
       "body.vscode-dark {\n",
       "  --xr-font-color0: rgba(255, 255, 255, 1);\n",
       "  --xr-font-color2: rgba(255, 255, 255, 0.54);\n",
       "  --xr-font-color3: rgba(255, 255, 255, 0.38);\n",
       "  --xr-border-color: #1F1F1F;\n",
       "  --xr-disabled-color: #515151;\n",
       "  --xr-background-color: #111111;\n",
       "  --xr-background-color-row-even: #111111;\n",
       "  --xr-background-color-row-odd: #313131;\n",
       "}\n",
       "\n",
       ".xr-wrap {\n",
       "  display: block;\n",
       "  min-width: 300px;\n",
       "  max-width: 700px;\n",
       "}\n",
       "\n",
       ".xr-text-repr-fallback {\n",
       "  /* fallback to plain text repr when CSS is not injected (untrusted notebook) */\n",
       "  display: none;\n",
       "}\n",
       "\n",
       ".xr-header {\n",
       "  padding-top: 6px;\n",
       "  padding-bottom: 6px;\n",
       "  margin-bottom: 4px;\n",
       "  border-bottom: solid 1px var(--xr-border-color);\n",
       "}\n",
       "\n",
       ".xr-header > div,\n",
       ".xr-header > ul {\n",
       "  display: inline;\n",
       "  margin-top: 0;\n",
       "  margin-bottom: 0;\n",
       "}\n",
       "\n",
       ".xr-obj-type,\n",
       ".xr-array-name {\n",
       "  margin-left: 2px;\n",
       "  margin-right: 10px;\n",
       "}\n",
       "\n",
       ".xr-obj-type {\n",
       "  color: var(--xr-font-color2);\n",
       "}\n",
       "\n",
       ".xr-sections {\n",
       "  padding-left: 0 !important;\n",
       "  display: grid;\n",
       "  grid-template-columns: 150px auto auto 1fr 20px 20px;\n",
       "}\n",
       "\n",
       ".xr-section-item {\n",
       "  display: contents;\n",
       "}\n",
       "\n",
       ".xr-section-item input {\n",
       "  display: none;\n",
       "}\n",
       "\n",
       ".xr-section-item input + label {\n",
       "  color: var(--xr-disabled-color);\n",
       "}\n",
       "\n",
       ".xr-section-item input:enabled + label {\n",
       "  cursor: pointer;\n",
       "  color: var(--xr-font-color2);\n",
       "}\n",
       "\n",
       ".xr-section-item input:enabled + label:hover {\n",
       "  color: var(--xr-font-color0);\n",
       "}\n",
       "\n",
       ".xr-section-summary {\n",
       "  grid-column: 1;\n",
       "  color: var(--xr-font-color2);\n",
       "  font-weight: 500;\n",
       "}\n",
       "\n",
       ".xr-section-summary > span {\n",
       "  display: inline-block;\n",
       "  padding-left: 0.5em;\n",
       "}\n",
       "\n",
       ".xr-section-summary-in:disabled + label {\n",
       "  color: var(--xr-font-color2);\n",
       "}\n",
       "\n",
       ".xr-section-summary-in + label:before {\n",
       "  display: inline-block;\n",
       "  content: '►';\n",
       "  font-size: 11px;\n",
       "  width: 15px;\n",
       "  text-align: center;\n",
       "}\n",
       "\n",
       ".xr-section-summary-in:disabled + label:before {\n",
       "  color: var(--xr-disabled-color);\n",
       "}\n",
       "\n",
       ".xr-section-summary-in:checked + label:before {\n",
       "  content: '▼';\n",
       "}\n",
       "\n",
       ".xr-section-summary-in:checked + label > span {\n",
       "  display: none;\n",
       "}\n",
       "\n",
       ".xr-section-summary,\n",
       ".xr-section-inline-details {\n",
       "  padding-top: 4px;\n",
       "  padding-bottom: 4px;\n",
       "}\n",
       "\n",
       ".xr-section-inline-details {\n",
       "  grid-column: 2 / -1;\n",
       "}\n",
       "\n",
       ".xr-section-details {\n",
       "  display: none;\n",
       "  grid-column: 1 / -1;\n",
       "  margin-bottom: 5px;\n",
       "}\n",
       "\n",
       ".xr-section-summary-in:checked ~ .xr-section-details {\n",
       "  display: contents;\n",
       "}\n",
       "\n",
       ".xr-array-wrap {\n",
       "  grid-column: 1 / -1;\n",
       "  display: grid;\n",
       "  grid-template-columns: 20px auto;\n",
       "}\n",
       "\n",
       ".xr-array-wrap > label {\n",
       "  grid-column: 1;\n",
       "  vertical-align: top;\n",
       "}\n",
       "\n",
       ".xr-preview {\n",
       "  color: var(--xr-font-color3);\n",
       "}\n",
       "\n",
       ".xr-array-preview,\n",
       ".xr-array-data {\n",
       "  padding: 0 5px !important;\n",
       "  grid-column: 2;\n",
       "}\n",
       "\n",
       ".xr-array-data,\n",
       ".xr-array-in:checked ~ .xr-array-preview {\n",
       "  display: none;\n",
       "}\n",
       "\n",
       ".xr-array-in:checked ~ .xr-array-data,\n",
       ".xr-array-preview {\n",
       "  display: inline-block;\n",
       "}\n",
       "\n",
       ".xr-dim-list {\n",
       "  display: inline-block !important;\n",
       "  list-style: none;\n",
       "  padding: 0 !important;\n",
       "  margin: 0;\n",
       "}\n",
       "\n",
       ".xr-dim-list li {\n",
       "  display: inline-block;\n",
       "  padding: 0;\n",
       "  margin: 0;\n",
       "}\n",
       "\n",
       ".xr-dim-list:before {\n",
       "  content: '(';\n",
       "}\n",
       "\n",
       ".xr-dim-list:after {\n",
       "  content: ')';\n",
       "}\n",
       "\n",
       ".xr-dim-list li:not(:last-child):after {\n",
       "  content: ',';\n",
       "  padding-right: 5px;\n",
       "}\n",
       "\n",
       ".xr-has-index {\n",
       "  font-weight: bold;\n",
       "}\n",
       "\n",
       ".xr-var-list,\n",
       ".xr-var-item {\n",
       "  display: contents;\n",
       "}\n",
       "\n",
       ".xr-var-item > div,\n",
       ".xr-var-item label,\n",
       ".xr-var-item > .xr-var-name span {\n",
       "  background-color: var(--xr-background-color-row-even);\n",
       "  margin-bottom: 0;\n",
       "}\n",
       "\n",
       ".xr-var-item > .xr-var-name:hover span {\n",
       "  padding-right: 5px;\n",
       "}\n",
       "\n",
       ".xr-var-list > li:nth-child(odd) > div,\n",
       ".xr-var-list > li:nth-child(odd) > label,\n",
       ".xr-var-list > li:nth-child(odd) > .xr-var-name span {\n",
       "  background-color: var(--xr-background-color-row-odd);\n",
       "}\n",
       "\n",
       ".xr-var-name {\n",
       "  grid-column: 1;\n",
       "}\n",
       "\n",
       ".xr-var-dims {\n",
       "  grid-column: 2;\n",
       "}\n",
       "\n",
       ".xr-var-dtype {\n",
       "  grid-column: 3;\n",
       "  text-align: right;\n",
       "  color: var(--xr-font-color2);\n",
       "}\n",
       "\n",
       ".xr-var-preview {\n",
       "  grid-column: 4;\n",
       "}\n",
       "\n",
       ".xr-var-name,\n",
       ".xr-var-dims,\n",
       ".xr-var-dtype,\n",
       ".xr-preview,\n",
       ".xr-attrs dt {\n",
       "  white-space: nowrap;\n",
       "  overflow: hidden;\n",
       "  text-overflow: ellipsis;\n",
       "  padding-right: 10px;\n",
       "}\n",
       "\n",
       ".xr-var-name:hover,\n",
       ".xr-var-dims:hover,\n",
       ".xr-var-dtype:hover,\n",
       ".xr-attrs dt:hover {\n",
       "  overflow: visible;\n",
       "  width: auto;\n",
       "  z-index: 1;\n",
       "}\n",
       "\n",
       ".xr-var-attrs,\n",
       ".xr-var-data {\n",
       "  display: none;\n",
       "  background-color: var(--xr-background-color) !important;\n",
       "  padding-bottom: 5px !important;\n",
       "}\n",
       "\n",
       ".xr-var-attrs-in:checked ~ .xr-var-attrs,\n",
       ".xr-var-data-in:checked ~ .xr-var-data {\n",
       "  display: block;\n",
       "}\n",
       "\n",
       ".xr-var-data > table {\n",
       "  float: right;\n",
       "}\n",
       "\n",
       ".xr-var-name span,\n",
       ".xr-var-data,\n",
       ".xr-attrs {\n",
       "  padding-left: 25px !important;\n",
       "}\n",
       "\n",
       ".xr-attrs,\n",
       ".xr-var-attrs,\n",
       ".xr-var-data {\n",
       "  grid-column: 1 / -1;\n",
       "}\n",
       "\n",
       "dl.xr-attrs {\n",
       "  padding: 0;\n",
       "  margin: 0;\n",
       "  display: grid;\n",
       "  grid-template-columns: 125px auto;\n",
       "}\n",
       "\n",
       ".xr-attrs dt,\n",
       ".xr-attrs dd {\n",
       "  padding: 0;\n",
       "  margin: 0;\n",
       "  float: left;\n",
       "  padding-right: 10px;\n",
       "  width: auto;\n",
       "}\n",
       "\n",
       ".xr-attrs dt {\n",
       "  font-weight: normal;\n",
       "  grid-column: 1;\n",
       "}\n",
       "\n",
       ".xr-attrs dt:hover span {\n",
       "  display: inline-block;\n",
       "  background: var(--xr-background-color);\n",
       "  padding-right: 10px;\n",
       "}\n",
       "\n",
       ".xr-attrs dd {\n",
       "  grid-column: 2;\n",
       "  white-space: pre-wrap;\n",
       "  word-break: break-all;\n",
       "}\n",
       "\n",
       ".xr-icon-database,\n",
       ".xr-icon-file-text2 {\n",
       "  display: inline-block;\n",
       "  vertical-align: middle;\n",
       "  width: 1em;\n",
       "  height: 1.5em !important;\n",
       "  stroke-width: 0;\n",
       "  stroke: currentColor;\n",
       "  fill: currentColor;\n",
       "}\n",
       "</style><pre class='xr-text-repr-fallback'>&lt;xarray.Dataset&gt;\n",
       "Dimensions:    (latitude: 71, longitude: 51, time: 26304)\n",
       "Coordinates:\n",
       "  * longitude  (longitude) float32 -66.0 -65.9 -65.8 -65.7 ... -61.2 -61.1 -61.0\n",
       "  * latitude   (latitude) float32 -29.0 -29.1 -29.2 -29.3 ... -35.8 -35.9 -36.0\n",
       "  * time       (time) datetime64[ns] 2018-12-31T21:00:00 ... 2021-12-31T20:00:00\n",
       "Data variables:\n",
       "    lai_hv     (time, latitude, longitude) float32 dask.array&lt;chunksize=(8760, 71, 51), meta=np.ndarray&gt;\n",
       "    lai_lv     (time, latitude, longitude) float32 dask.array&lt;chunksize=(8760, 71, 51), meta=np.ndarray&gt;\n",
       "    ro         (time, latitude, longitude) float32 dask.array&lt;chunksize=(8760, 71, 51), meta=np.ndarray&gt;\n",
       "    sp         (time, latitude, longitude) float32 dask.array&lt;chunksize=(8760, 71, 51), meta=np.ndarray&gt;\n",
       "    sro        (time, latitude, longitude) float32 dask.array&lt;chunksize=(8760, 71, 51), meta=np.ndarray&gt;\n",
       "    swvl1      (time, latitude, longitude) float32 dask.array&lt;chunksize=(8760, 71, 51), meta=np.ndarray&gt;\n",
       "    swvl2      (time, latitude, longitude) float32 dask.array&lt;chunksize=(8760, 71, 51), meta=np.ndarray&gt;\n",
       "    swvl3      (time, latitude, longitude) float32 dask.array&lt;chunksize=(8760, 71, 51), meta=np.ndarray&gt;\n",
       "    swvl4      (time, latitude, longitude) float32 dask.array&lt;chunksize=(8760, 71, 51), meta=np.ndarray&gt;\n",
       "    tp         (time, latitude, longitude) float32 dask.array&lt;chunksize=(8760, 71, 51), meta=np.ndarray&gt;\n",
       "    u10        (time, latitude, longitude) float32 dask.array&lt;chunksize=(8760, 71, 51), meta=np.ndarray&gt;\n",
       "    v10        (time, latitude, longitude) float32 dask.array&lt;chunksize=(8760, 71, 51), meta=np.ndarray&gt;</pre><div class='xr-wrap' hidden><div class='xr-header'><div class='xr-obj-type'>xarray.Dataset</div></div><ul class='xr-sections'><li class='xr-section-item'><input id='section-a45f3ab2-bef4-4ee9-b311-f720c086f819' class='xr-section-summary-in' type='checkbox' disabled ><label for='section-a45f3ab2-bef4-4ee9-b311-f720c086f819' class='xr-section-summary'  title='Expand/collapse section'>Dimensions:</label><div class='xr-section-inline-details'><ul class='xr-dim-list'><li><span class='xr-has-index'>latitude</span>: 71</li><li><span class='xr-has-index'>longitude</span>: 51</li><li><span class='xr-has-index'>time</span>: 26304</li></ul></div><div class='xr-section-details'></div></li><li class='xr-section-item'><input id='section-8c2408b7-7b2a-4eef-8b66-1f055bfe4bdb' class='xr-section-summary-in' type='checkbox'  checked><label for='section-8c2408b7-7b2a-4eef-8b66-1f055bfe4bdb' class='xr-section-summary' >Coordinates: <span>(3)</span></label><div class='xr-section-inline-details'></div><div class='xr-section-details'><ul class='xr-var-list'><li class='xr-var-item'><div class='xr-var-name'><span class='xr-has-index'>longitude</span></div><div class='xr-var-dims'>(longitude)</div><div class='xr-var-dtype'>float32</div><div class='xr-var-preview xr-preview'>-66.0 -65.9 -65.8 ... -61.1 -61.0</div><input id='attrs-e8d77d76-1573-4380-9bfa-9bbaba10e16c' class='xr-var-attrs-in' type='checkbox' ><label for='attrs-e8d77d76-1573-4380-9bfa-9bbaba10e16c' title='Show/Hide attributes'><svg class='icon xr-icon-file-text2'><use xlink:href='#icon-file-text2'></use></svg></label><input id='data-02b246a1-8bc2-4e26-84c5-1dc2b800c8ff' class='xr-var-data-in' type='checkbox'><label for='data-02b246a1-8bc2-4e26-84c5-1dc2b800c8ff' title='Show/Hide data repr'><svg class='icon xr-icon-database'><use xlink:href='#icon-database'></use></svg></label><div class='xr-var-attrs'><dl class='xr-attrs'><dt><span>units :</span></dt><dd>degrees_east</dd><dt><span>long_name :</span></dt><dd>longitude</dd></dl></div><div class='xr-var-data'><pre>array([-66. , -65.9, -65.8, -65.7, -65.6, -65.5, -65.4, -65.3, -65.2, -65.1,\n",
       "       -65. , -64.9, -64.8, -64.7, -64.6, -64.5, -64.4, -64.3, -64.2, -64.1,\n",
       "       -64. , -63.9, -63.8, -63.7, -63.6, -63.5, -63.4, -63.3, -63.2, -63.1,\n",
       "       -63. , -62.9, -62.8, -62.7, -62.6, -62.5, -62.4, -62.3, -62.2, -62.1,\n",
       "       -62. , -61.9, -61.8, -61.7, -61.6, -61.5, -61.4, -61.3, -61.2, -61.1,\n",
       "       -61. ], dtype=float32)</pre></div></li><li class='xr-var-item'><div class='xr-var-name'><span class='xr-has-index'>latitude</span></div><div class='xr-var-dims'>(latitude)</div><div class='xr-var-dtype'>float32</div><div class='xr-var-preview xr-preview'>-29.0 -29.1 -29.2 ... -35.9 -36.0</div><input id='attrs-0a5bd200-0cbf-4640-a237-137068031d21' class='xr-var-attrs-in' type='checkbox' ><label for='attrs-0a5bd200-0cbf-4640-a237-137068031d21' title='Show/Hide attributes'><svg class='icon xr-icon-file-text2'><use xlink:href='#icon-file-text2'></use></svg></label><input id='data-2d4aa1fa-15df-4d33-9a65-bbefe80925d8' class='xr-var-data-in' type='checkbox'><label for='data-2d4aa1fa-15df-4d33-9a65-bbefe80925d8' title='Show/Hide data repr'><svg class='icon xr-icon-database'><use xlink:href='#icon-database'></use></svg></label><div class='xr-var-attrs'><dl class='xr-attrs'><dt><span>units :</span></dt><dd>degrees_north</dd><dt><span>long_name :</span></dt><dd>latitude</dd></dl></div><div class='xr-var-data'><pre>array([-29. , -29.1, -29.2, -29.3, -29.4, -29.5, -29.6, -29.7, -29.8, -29.9,\n",
       "       -30. , -30.1, -30.2, -30.3, -30.4, -30.5, -30.6, -30.7, -30.8, -30.9,\n",
       "       -31. , -31.1, -31.2, -31.3, -31.4, -31.5, -31.6, -31.7, -31.8, -31.9,\n",
       "       -32. , -32.1, -32.2, -32.3, -32.4, -32.5, -32.6, -32.7, -32.8, -32.9,\n",
       "       -33. , -33.1, -33.2, -33.3, -33.4, -33.5, -33.6, -33.7, -33.8, -33.9,\n",
       "       -34. , -34.1, -34.2, -34.3, -34.4, -34.5, -34.6, -34.7, -34.8, -34.9,\n",
       "       -35. , -35.1, -35.2, -35.3, -35.4, -35.5, -35.6, -35.7, -35.8, -35.9,\n",
       "       -36. ], dtype=float32)</pre></div></li><li class='xr-var-item'><div class='xr-var-name'><span class='xr-has-index'>time</span></div><div class='xr-var-dims'>(time)</div><div class='xr-var-dtype'>datetime64[ns]</div><div class='xr-var-preview xr-preview'>2018-12-31T21:00:00 ... 2021-12-...</div><input id='attrs-092e72c3-6488-406e-9881-194b2877ab02' class='xr-var-attrs-in' type='checkbox' disabled><label for='attrs-092e72c3-6488-406e-9881-194b2877ab02' title='Show/Hide attributes'><svg class='icon xr-icon-file-text2'><use xlink:href='#icon-file-text2'></use></svg></label><input id='data-ff958266-42b9-40d6-8ce9-d8a347470992' class='xr-var-data-in' type='checkbox'><label for='data-ff958266-42b9-40d6-8ce9-d8a347470992' title='Show/Hide data repr'><svg class='icon xr-icon-database'><use xlink:href='#icon-database'></use></svg></label><div class='xr-var-attrs'><dl class='xr-attrs'></dl></div><div class='xr-var-data'><pre>array([&#x27;2018-12-31T21:00:00.000000000&#x27;, &#x27;2018-12-31T22:00:00.000000000&#x27;,\n",
       "       &#x27;2018-12-31T23:00:00.000000000&#x27;, ..., &#x27;2021-12-31T18:00:00.000000000&#x27;,\n",
       "       &#x27;2021-12-31T19:00:00.000000000&#x27;, &#x27;2021-12-31T20:00:00.000000000&#x27;],\n",
       "      dtype=&#x27;datetime64[ns]&#x27;)</pre></div></li></ul></div></li><li class='xr-section-item'><input id='section-fdac7252-61de-4016-9ec0-fd2f10a512f6' class='xr-section-summary-in' type='checkbox'  checked><label for='section-fdac7252-61de-4016-9ec0-fd2f10a512f6' class='xr-section-summary' >Data variables: <span>(12)</span></label><div class='xr-section-inline-details'></div><div class='xr-section-details'><ul class='xr-var-list'><li class='xr-var-item'><div class='xr-var-name'><span>lai_hv</span></div><div class='xr-var-dims'>(time, latitude, longitude)</div><div class='xr-var-dtype'>float32</div><div class='xr-var-preview xr-preview'>dask.array&lt;chunksize=(8760, 71, 51), meta=np.ndarray&gt;</div><input id='attrs-99266316-6794-46c8-b890-f0ee82a1a42c' class='xr-var-attrs-in' type='checkbox' ><label for='attrs-99266316-6794-46c8-b890-f0ee82a1a42c' title='Show/Hide attributes'><svg class='icon xr-icon-file-text2'><use xlink:href='#icon-file-text2'></use></svg></label><input id='data-c86fc136-b480-42a7-bd2c-ce90c8a49483' class='xr-var-data-in' type='checkbox'><label for='data-c86fc136-b480-42a7-bd2c-ce90c8a49483' title='Show/Hide data repr'><svg class='icon xr-icon-database'><use xlink:href='#icon-database'></use></svg></label><div class='xr-var-attrs'><dl class='xr-attrs'><dt><span>units :</span></dt><dd>m**2 m**-2</dd><dt><span>long_name :</span></dt><dd>Leaf area index, high vegetation</dd></dl></div><div class='xr-var-data'><table>\n",
       "<tr>\n",
       "<td>\n",
       "<table>\n",
       "  <thead>\n",
       "    <tr><td> </td><th> Array </th><th> Chunk </th></tr>\n",
       "  </thead>\n",
       "  <tbody>\n",
       "    <tr><th> Bytes </th><td> 363.34 MiB </td> <td> 121.33 MiB </td></tr>\n",
       "    <tr><th> Shape </th><td> (26304, 71, 51) </td> <td> (8784, 71, 51) </td></tr>\n",
       "    <tr><th> Count </th><td> 9 Tasks </td><td> 3 Chunks </td></tr>\n",
       "    <tr><th> Type </th><td> float32 </td><td> numpy.ndarray </td></tr>\n",
       "  </tbody>\n",
       "</table>\n",
       "</td>\n",
       "<td>\n",
       "<svg width=\"156\" height=\"146\" style=\"stroke:rgb(0,0,0);stroke-width:1\" >\n",
       "\n",
       "  <!-- Horizontal lines -->\n",
       "  <line x1=\"10\" y1=\"0\" x2=\"80\" y2=\"70\" style=\"stroke-width:2\" />\n",
       "  <line x1=\"10\" y1=\"25\" x2=\"80\" y2=\"96\" style=\"stroke-width:2\" />\n",
       "\n",
       "  <!-- Vertical lines -->\n",
       "  <line x1=\"10\" y1=\"0\" x2=\"10\" y2=\"25\" style=\"stroke-width:2\" />\n",
       "  <line x1=\"33\" y1=\"23\" x2=\"33\" y2=\"48\" />\n",
       "  <line x1=\"57\" y1=\"47\" x2=\"57\" y2=\"72\" />\n",
       "  <line x1=\"80\" y1=\"70\" x2=\"80\" y2=\"96\" style=\"stroke-width:2\" />\n",
       "\n",
       "  <!-- Colored Rectangle -->\n",
       "  <polygon points=\"10.0,0.0 80.58823529411765,70.58823529411765 80.58823529411765,96.00085180870013 10.0,25.412616514582485\" style=\"fill:#ECB172A0;stroke-width:0\"/>\n",
       "\n",
       "  <!-- Horizontal lines -->\n",
       "  <line x1=\"10\" y1=\"0\" x2=\"35\" y2=\"0\" style=\"stroke-width:2\" />\n",
       "  <line x1=\"33\" y1=\"23\" x2=\"58\" y2=\"23\" />\n",
       "  <line x1=\"57\" y1=\"47\" x2=\"82\" y2=\"47\" />\n",
       "  <line x1=\"80\" y1=\"70\" x2=\"106\" y2=\"70\" style=\"stroke-width:2\" />\n",
       "\n",
       "  <!-- Vertical lines -->\n",
       "  <line x1=\"10\" y1=\"0\" x2=\"80\" y2=\"70\" style=\"stroke-width:2\" />\n",
       "  <line x1=\"35\" y1=\"0\" x2=\"106\" y2=\"70\" style=\"stroke-width:2\" />\n",
       "\n",
       "  <!-- Colored Rectangle -->\n",
       "  <polygon points=\"10.0,0.0 35.41261651458248,0.0 106.00085180870013,70.58823529411765 80.58823529411765,70.58823529411765\" style=\"fill:#ECB172A0;stroke-width:0\"/>\n",
       "\n",
       "  <!-- Horizontal lines -->\n",
       "  <line x1=\"80\" y1=\"70\" x2=\"106\" y2=\"70\" style=\"stroke-width:2\" />\n",
       "  <line x1=\"80\" y1=\"96\" x2=\"106\" y2=\"96\" style=\"stroke-width:2\" />\n",
       "\n",
       "  <!-- Vertical lines -->\n",
       "  <line x1=\"80\" y1=\"70\" x2=\"80\" y2=\"96\" style=\"stroke-width:2\" />\n",
       "  <line x1=\"106\" y1=\"70\" x2=\"106\" y2=\"96\" style=\"stroke-width:2\" />\n",
       "\n",
       "  <!-- Colored Rectangle -->\n",
       "  <polygon points=\"80.58823529411765,70.58823529411765 106.00085180870013,70.58823529411765 106.00085180870013,96.00085180870013 80.58823529411765,96.00085180870013\" style=\"fill:#ECB172A0;stroke-width:0\"/>\n",
       "\n",
       "  <!-- Text -->\n",
       "  <text x=\"93.294544\" y=\"116.000852\" font-size=\"1.0rem\" font-weight=\"100\" text-anchor=\"middle\" >51</text>\n",
       "  <text x=\"126.000852\" y=\"83.294544\" font-size=\"1.0rem\" font-weight=\"100\" text-anchor=\"middle\" transform=\"rotate(0,126.000852,83.294544)\">71</text>\n",
       "  <text x=\"35.294118\" y=\"80.706734\" font-size=\"1.0rem\" font-weight=\"100\" text-anchor=\"middle\" transform=\"rotate(45,35.294118,80.706734)\">26304</text>\n",
       "</svg>\n",
       "</td>\n",
       "</tr>\n",
       "</table></div></li><li class='xr-var-item'><div class='xr-var-name'><span>lai_lv</span></div><div class='xr-var-dims'>(time, latitude, longitude)</div><div class='xr-var-dtype'>float32</div><div class='xr-var-preview xr-preview'>dask.array&lt;chunksize=(8760, 71, 51), meta=np.ndarray&gt;</div><input id='attrs-ed71cfe2-67e1-437e-8f25-f57e938852e3' class='xr-var-attrs-in' type='checkbox' ><label for='attrs-ed71cfe2-67e1-437e-8f25-f57e938852e3' title='Show/Hide attributes'><svg class='icon xr-icon-file-text2'><use xlink:href='#icon-file-text2'></use></svg></label><input id='data-5ca34e9e-96c0-43d2-a14d-b18181ee2099' class='xr-var-data-in' type='checkbox'><label for='data-5ca34e9e-96c0-43d2-a14d-b18181ee2099' title='Show/Hide data repr'><svg class='icon xr-icon-database'><use xlink:href='#icon-database'></use></svg></label><div class='xr-var-attrs'><dl class='xr-attrs'><dt><span>units :</span></dt><dd>m**2 m**-2</dd><dt><span>long_name :</span></dt><dd>Leaf area index, low vegetation</dd></dl></div><div class='xr-var-data'><table>\n",
       "<tr>\n",
       "<td>\n",
       "<table>\n",
       "  <thead>\n",
       "    <tr><td> </td><th> Array </th><th> Chunk </th></tr>\n",
       "  </thead>\n",
       "  <tbody>\n",
       "    <tr><th> Bytes </th><td> 363.34 MiB </td> <td> 121.33 MiB </td></tr>\n",
       "    <tr><th> Shape </th><td> (26304, 71, 51) </td> <td> (8784, 71, 51) </td></tr>\n",
       "    <tr><th> Count </th><td> 9 Tasks </td><td> 3 Chunks </td></tr>\n",
       "    <tr><th> Type </th><td> float32 </td><td> numpy.ndarray </td></tr>\n",
       "  </tbody>\n",
       "</table>\n",
       "</td>\n",
       "<td>\n",
       "<svg width=\"156\" height=\"146\" style=\"stroke:rgb(0,0,0);stroke-width:1\" >\n",
       "\n",
       "  <!-- Horizontal lines -->\n",
       "  <line x1=\"10\" y1=\"0\" x2=\"80\" y2=\"70\" style=\"stroke-width:2\" />\n",
       "  <line x1=\"10\" y1=\"25\" x2=\"80\" y2=\"96\" style=\"stroke-width:2\" />\n",
       "\n",
       "  <!-- Vertical lines -->\n",
       "  <line x1=\"10\" y1=\"0\" x2=\"10\" y2=\"25\" style=\"stroke-width:2\" />\n",
       "  <line x1=\"33\" y1=\"23\" x2=\"33\" y2=\"48\" />\n",
       "  <line x1=\"57\" y1=\"47\" x2=\"57\" y2=\"72\" />\n",
       "  <line x1=\"80\" y1=\"70\" x2=\"80\" y2=\"96\" style=\"stroke-width:2\" />\n",
       "\n",
       "  <!-- Colored Rectangle -->\n",
       "  <polygon points=\"10.0,0.0 80.58823529411765,70.58823529411765 80.58823529411765,96.00085180870013 10.0,25.412616514582485\" style=\"fill:#ECB172A0;stroke-width:0\"/>\n",
       "\n",
       "  <!-- Horizontal lines -->\n",
       "  <line x1=\"10\" y1=\"0\" x2=\"35\" y2=\"0\" style=\"stroke-width:2\" />\n",
       "  <line x1=\"33\" y1=\"23\" x2=\"58\" y2=\"23\" />\n",
       "  <line x1=\"57\" y1=\"47\" x2=\"82\" y2=\"47\" />\n",
       "  <line x1=\"80\" y1=\"70\" x2=\"106\" y2=\"70\" style=\"stroke-width:2\" />\n",
       "\n",
       "  <!-- Vertical lines -->\n",
       "  <line x1=\"10\" y1=\"0\" x2=\"80\" y2=\"70\" style=\"stroke-width:2\" />\n",
       "  <line x1=\"35\" y1=\"0\" x2=\"106\" y2=\"70\" style=\"stroke-width:2\" />\n",
       "\n",
       "  <!-- Colored Rectangle -->\n",
       "  <polygon points=\"10.0,0.0 35.41261651458248,0.0 106.00085180870013,70.58823529411765 80.58823529411765,70.58823529411765\" style=\"fill:#ECB172A0;stroke-width:0\"/>\n",
       "\n",
       "  <!-- Horizontal lines -->\n",
       "  <line x1=\"80\" y1=\"70\" x2=\"106\" y2=\"70\" style=\"stroke-width:2\" />\n",
       "  <line x1=\"80\" y1=\"96\" x2=\"106\" y2=\"96\" style=\"stroke-width:2\" />\n",
       "\n",
       "  <!-- Vertical lines -->\n",
       "  <line x1=\"80\" y1=\"70\" x2=\"80\" y2=\"96\" style=\"stroke-width:2\" />\n",
       "  <line x1=\"106\" y1=\"70\" x2=\"106\" y2=\"96\" style=\"stroke-width:2\" />\n",
       "\n",
       "  <!-- Colored Rectangle -->\n",
       "  <polygon points=\"80.58823529411765,70.58823529411765 106.00085180870013,70.58823529411765 106.00085180870013,96.00085180870013 80.58823529411765,96.00085180870013\" style=\"fill:#ECB172A0;stroke-width:0\"/>\n",
       "\n",
       "  <!-- Text -->\n",
       "  <text x=\"93.294544\" y=\"116.000852\" font-size=\"1.0rem\" font-weight=\"100\" text-anchor=\"middle\" >51</text>\n",
       "  <text x=\"126.000852\" y=\"83.294544\" font-size=\"1.0rem\" font-weight=\"100\" text-anchor=\"middle\" transform=\"rotate(0,126.000852,83.294544)\">71</text>\n",
       "  <text x=\"35.294118\" y=\"80.706734\" font-size=\"1.0rem\" font-weight=\"100\" text-anchor=\"middle\" transform=\"rotate(45,35.294118,80.706734)\">26304</text>\n",
       "</svg>\n",
       "</td>\n",
       "</tr>\n",
       "</table></div></li><li class='xr-var-item'><div class='xr-var-name'><span>ro</span></div><div class='xr-var-dims'>(time, latitude, longitude)</div><div class='xr-var-dtype'>float32</div><div class='xr-var-preview xr-preview'>dask.array&lt;chunksize=(8760, 71, 51), meta=np.ndarray&gt;</div><input id='attrs-d8750f92-cf31-4934-aadd-1d9fbd7fc7fb' class='xr-var-attrs-in' type='checkbox' disabled><label for='attrs-d8750f92-cf31-4934-aadd-1d9fbd7fc7fb' title='Show/Hide attributes'><svg class='icon xr-icon-file-text2'><use xlink:href='#icon-file-text2'></use></svg></label><input id='data-c2af14ca-6d0e-4185-b3da-9cbc294fd84e' class='xr-var-data-in' type='checkbox'><label for='data-c2af14ca-6d0e-4185-b3da-9cbc294fd84e' title='Show/Hide data repr'><svg class='icon xr-icon-database'><use xlink:href='#icon-database'></use></svg></label><div class='xr-var-attrs'><dl class='xr-attrs'></dl></div><div class='xr-var-data'><table>\n",
       "<tr>\n",
       "<td>\n",
       "<table>\n",
       "  <thead>\n",
       "    <tr><td> </td><th> Array </th><th> Chunk </th></tr>\n",
       "  </thead>\n",
       "  <tbody>\n",
       "    <tr><th> Bytes </th><td> 363.34 MiB </td> <td> 121.33 MiB </td></tr>\n",
       "    <tr><th> Shape </th><td> (26304, 71, 51) </td> <td> (8784, 71, 51) </td></tr>\n",
       "    <tr><th> Count </th><td> 41 Tasks </td><td> 3 Chunks </td></tr>\n",
       "    <tr><th> Type </th><td> float32 </td><td> numpy.ndarray </td></tr>\n",
       "  </tbody>\n",
       "</table>\n",
       "</td>\n",
       "<td>\n",
       "<svg width=\"156\" height=\"146\" style=\"stroke:rgb(0,0,0);stroke-width:1\" >\n",
       "\n",
       "  <!-- Horizontal lines -->\n",
       "  <line x1=\"10\" y1=\"0\" x2=\"80\" y2=\"70\" style=\"stroke-width:2\" />\n",
       "  <line x1=\"10\" y1=\"25\" x2=\"80\" y2=\"96\" style=\"stroke-width:2\" />\n",
       "\n",
       "  <!-- Vertical lines -->\n",
       "  <line x1=\"10\" y1=\"0\" x2=\"10\" y2=\"25\" style=\"stroke-width:2\" />\n",
       "  <line x1=\"33\" y1=\"23\" x2=\"33\" y2=\"48\" />\n",
       "  <line x1=\"57\" y1=\"47\" x2=\"57\" y2=\"72\" />\n",
       "  <line x1=\"80\" y1=\"70\" x2=\"80\" y2=\"96\" style=\"stroke-width:2\" />\n",
       "\n",
       "  <!-- Colored Rectangle -->\n",
       "  <polygon points=\"10.0,0.0 80.58823529411765,70.58823529411765 80.58823529411765,96.00085180870013 10.0,25.412616514582485\" style=\"fill:#ECB172A0;stroke-width:0\"/>\n",
       "\n",
       "  <!-- Horizontal lines -->\n",
       "  <line x1=\"10\" y1=\"0\" x2=\"35\" y2=\"0\" style=\"stroke-width:2\" />\n",
       "  <line x1=\"33\" y1=\"23\" x2=\"58\" y2=\"23\" />\n",
       "  <line x1=\"57\" y1=\"47\" x2=\"82\" y2=\"47\" />\n",
       "  <line x1=\"80\" y1=\"70\" x2=\"106\" y2=\"70\" style=\"stroke-width:2\" />\n",
       "\n",
       "  <!-- Vertical lines -->\n",
       "  <line x1=\"10\" y1=\"0\" x2=\"80\" y2=\"70\" style=\"stroke-width:2\" />\n",
       "  <line x1=\"35\" y1=\"0\" x2=\"106\" y2=\"70\" style=\"stroke-width:2\" />\n",
       "\n",
       "  <!-- Colored Rectangle -->\n",
       "  <polygon points=\"10.0,0.0 35.41261651458248,0.0 106.00085180870013,70.58823529411765 80.58823529411765,70.58823529411765\" style=\"fill:#ECB172A0;stroke-width:0\"/>\n",
       "\n",
       "  <!-- Horizontal lines -->\n",
       "  <line x1=\"80\" y1=\"70\" x2=\"106\" y2=\"70\" style=\"stroke-width:2\" />\n",
       "  <line x1=\"80\" y1=\"96\" x2=\"106\" y2=\"96\" style=\"stroke-width:2\" />\n",
       "\n",
       "  <!-- Vertical lines -->\n",
       "  <line x1=\"80\" y1=\"70\" x2=\"80\" y2=\"96\" style=\"stroke-width:2\" />\n",
       "  <line x1=\"106\" y1=\"70\" x2=\"106\" y2=\"96\" style=\"stroke-width:2\" />\n",
       "\n",
       "  <!-- Colored Rectangle -->\n",
       "  <polygon points=\"80.58823529411765,70.58823529411765 106.00085180870013,70.58823529411765 106.00085180870013,96.00085180870013 80.58823529411765,96.00085180870013\" style=\"fill:#ECB172A0;stroke-width:0\"/>\n",
       "\n",
       "  <!-- Text -->\n",
       "  <text x=\"93.294544\" y=\"116.000852\" font-size=\"1.0rem\" font-weight=\"100\" text-anchor=\"middle\" >51</text>\n",
       "  <text x=\"126.000852\" y=\"83.294544\" font-size=\"1.0rem\" font-weight=\"100\" text-anchor=\"middle\" transform=\"rotate(0,126.000852,83.294544)\">71</text>\n",
       "  <text x=\"35.294118\" y=\"80.706734\" font-size=\"1.0rem\" font-weight=\"100\" text-anchor=\"middle\" transform=\"rotate(45,35.294118,80.706734)\">26304</text>\n",
       "</svg>\n",
       "</td>\n",
       "</tr>\n",
       "</table></div></li><li class='xr-var-item'><div class='xr-var-name'><span>sp</span></div><div class='xr-var-dims'>(time, latitude, longitude)</div><div class='xr-var-dtype'>float32</div><div class='xr-var-preview xr-preview'>dask.array&lt;chunksize=(8760, 71, 51), meta=np.ndarray&gt;</div><input id='attrs-21d9a59f-6dcd-4ec6-8e6f-d15b4819a289' class='xr-var-attrs-in' type='checkbox' ><label for='attrs-21d9a59f-6dcd-4ec6-8e6f-d15b4819a289' title='Show/Hide attributes'><svg class='icon xr-icon-file-text2'><use xlink:href='#icon-file-text2'></use></svg></label><input id='data-5d6bfb50-c8e0-45ae-9be0-26604cde3700' class='xr-var-data-in' type='checkbox'><label for='data-5d6bfb50-c8e0-45ae-9be0-26604cde3700' title='Show/Hide data repr'><svg class='icon xr-icon-database'><use xlink:href='#icon-database'></use></svg></label><div class='xr-var-attrs'><dl class='xr-attrs'><dt><span>units :</span></dt><dd>Pa</dd><dt><span>long_name :</span></dt><dd>Surface pressure</dd><dt><span>standard_name :</span></dt><dd>surface_air_pressure</dd></dl></div><div class='xr-var-data'><table>\n",
       "<tr>\n",
       "<td>\n",
       "<table>\n",
       "  <thead>\n",
       "    <tr><td> </td><th> Array </th><th> Chunk </th></tr>\n",
       "  </thead>\n",
       "  <tbody>\n",
       "    <tr><th> Bytes </th><td> 363.34 MiB </td> <td> 121.33 MiB </td></tr>\n",
       "    <tr><th> Shape </th><td> (26304, 71, 51) </td> <td> (8784, 71, 51) </td></tr>\n",
       "    <tr><th> Count </th><td> 9 Tasks </td><td> 3 Chunks </td></tr>\n",
       "    <tr><th> Type </th><td> float32 </td><td> numpy.ndarray </td></tr>\n",
       "  </tbody>\n",
       "</table>\n",
       "</td>\n",
       "<td>\n",
       "<svg width=\"156\" height=\"146\" style=\"stroke:rgb(0,0,0);stroke-width:1\" >\n",
       "\n",
       "  <!-- Horizontal lines -->\n",
       "  <line x1=\"10\" y1=\"0\" x2=\"80\" y2=\"70\" style=\"stroke-width:2\" />\n",
       "  <line x1=\"10\" y1=\"25\" x2=\"80\" y2=\"96\" style=\"stroke-width:2\" />\n",
       "\n",
       "  <!-- Vertical lines -->\n",
       "  <line x1=\"10\" y1=\"0\" x2=\"10\" y2=\"25\" style=\"stroke-width:2\" />\n",
       "  <line x1=\"33\" y1=\"23\" x2=\"33\" y2=\"48\" />\n",
       "  <line x1=\"57\" y1=\"47\" x2=\"57\" y2=\"72\" />\n",
       "  <line x1=\"80\" y1=\"70\" x2=\"80\" y2=\"96\" style=\"stroke-width:2\" />\n",
       "\n",
       "  <!-- Colored Rectangle -->\n",
       "  <polygon points=\"10.0,0.0 80.58823529411765,70.58823529411765 80.58823529411765,96.00085180870013 10.0,25.412616514582485\" style=\"fill:#ECB172A0;stroke-width:0\"/>\n",
       "\n",
       "  <!-- Horizontal lines -->\n",
       "  <line x1=\"10\" y1=\"0\" x2=\"35\" y2=\"0\" style=\"stroke-width:2\" />\n",
       "  <line x1=\"33\" y1=\"23\" x2=\"58\" y2=\"23\" />\n",
       "  <line x1=\"57\" y1=\"47\" x2=\"82\" y2=\"47\" />\n",
       "  <line x1=\"80\" y1=\"70\" x2=\"106\" y2=\"70\" style=\"stroke-width:2\" />\n",
       "\n",
       "  <!-- Vertical lines -->\n",
       "  <line x1=\"10\" y1=\"0\" x2=\"80\" y2=\"70\" style=\"stroke-width:2\" />\n",
       "  <line x1=\"35\" y1=\"0\" x2=\"106\" y2=\"70\" style=\"stroke-width:2\" />\n",
       "\n",
       "  <!-- Colored Rectangle -->\n",
       "  <polygon points=\"10.0,0.0 35.41261651458248,0.0 106.00085180870013,70.58823529411765 80.58823529411765,70.58823529411765\" style=\"fill:#ECB172A0;stroke-width:0\"/>\n",
       "\n",
       "  <!-- Horizontal lines -->\n",
       "  <line x1=\"80\" y1=\"70\" x2=\"106\" y2=\"70\" style=\"stroke-width:2\" />\n",
       "  <line x1=\"80\" y1=\"96\" x2=\"106\" y2=\"96\" style=\"stroke-width:2\" />\n",
       "\n",
       "  <!-- Vertical lines -->\n",
       "  <line x1=\"80\" y1=\"70\" x2=\"80\" y2=\"96\" style=\"stroke-width:2\" />\n",
       "  <line x1=\"106\" y1=\"70\" x2=\"106\" y2=\"96\" style=\"stroke-width:2\" />\n",
       "\n",
       "  <!-- Colored Rectangle -->\n",
       "  <polygon points=\"80.58823529411765,70.58823529411765 106.00085180870013,70.58823529411765 106.00085180870013,96.00085180870013 80.58823529411765,96.00085180870013\" style=\"fill:#ECB172A0;stroke-width:0\"/>\n",
       "\n",
       "  <!-- Text -->\n",
       "  <text x=\"93.294544\" y=\"116.000852\" font-size=\"1.0rem\" font-weight=\"100\" text-anchor=\"middle\" >51</text>\n",
       "  <text x=\"126.000852\" y=\"83.294544\" font-size=\"1.0rem\" font-weight=\"100\" text-anchor=\"middle\" transform=\"rotate(0,126.000852,83.294544)\">71</text>\n",
       "  <text x=\"35.294118\" y=\"80.706734\" font-size=\"1.0rem\" font-weight=\"100\" text-anchor=\"middle\" transform=\"rotate(45,35.294118,80.706734)\">26304</text>\n",
       "</svg>\n",
       "</td>\n",
       "</tr>\n",
       "</table></div></li><li class='xr-var-item'><div class='xr-var-name'><span>sro</span></div><div class='xr-var-dims'>(time, latitude, longitude)</div><div class='xr-var-dtype'>float32</div><div class='xr-var-preview xr-preview'>dask.array&lt;chunksize=(8760, 71, 51), meta=np.ndarray&gt;</div><input id='attrs-7757308e-ef44-4892-b036-e5e8d43ca0f3' class='xr-var-attrs-in' type='checkbox' disabled><label for='attrs-7757308e-ef44-4892-b036-e5e8d43ca0f3' title='Show/Hide attributes'><svg class='icon xr-icon-file-text2'><use xlink:href='#icon-file-text2'></use></svg></label><input id='data-b178143a-3aa0-4b88-ab92-c80db868b28f' class='xr-var-data-in' type='checkbox'><label for='data-b178143a-3aa0-4b88-ab92-c80db868b28f' title='Show/Hide data repr'><svg class='icon xr-icon-database'><use xlink:href='#icon-database'></use></svg></label><div class='xr-var-attrs'><dl class='xr-attrs'></dl></div><div class='xr-var-data'><table>\n",
       "<tr>\n",
       "<td>\n",
       "<table>\n",
       "  <thead>\n",
       "    <tr><td> </td><th> Array </th><th> Chunk </th></tr>\n",
       "  </thead>\n",
       "  <tbody>\n",
       "    <tr><th> Bytes </th><td> 363.34 MiB </td> <td> 121.33 MiB </td></tr>\n",
       "    <tr><th> Shape </th><td> (26304, 71, 51) </td> <td> (8784, 71, 51) </td></tr>\n",
       "    <tr><th> Count </th><td> 41 Tasks </td><td> 3 Chunks </td></tr>\n",
       "    <tr><th> Type </th><td> float32 </td><td> numpy.ndarray </td></tr>\n",
       "  </tbody>\n",
       "</table>\n",
       "</td>\n",
       "<td>\n",
       "<svg width=\"156\" height=\"146\" style=\"stroke:rgb(0,0,0);stroke-width:1\" >\n",
       "\n",
       "  <!-- Horizontal lines -->\n",
       "  <line x1=\"10\" y1=\"0\" x2=\"80\" y2=\"70\" style=\"stroke-width:2\" />\n",
       "  <line x1=\"10\" y1=\"25\" x2=\"80\" y2=\"96\" style=\"stroke-width:2\" />\n",
       "\n",
       "  <!-- Vertical lines -->\n",
       "  <line x1=\"10\" y1=\"0\" x2=\"10\" y2=\"25\" style=\"stroke-width:2\" />\n",
       "  <line x1=\"33\" y1=\"23\" x2=\"33\" y2=\"48\" />\n",
       "  <line x1=\"57\" y1=\"47\" x2=\"57\" y2=\"72\" />\n",
       "  <line x1=\"80\" y1=\"70\" x2=\"80\" y2=\"96\" style=\"stroke-width:2\" />\n",
       "\n",
       "  <!-- Colored Rectangle -->\n",
       "  <polygon points=\"10.0,0.0 80.58823529411765,70.58823529411765 80.58823529411765,96.00085180870013 10.0,25.412616514582485\" style=\"fill:#ECB172A0;stroke-width:0\"/>\n",
       "\n",
       "  <!-- Horizontal lines -->\n",
       "  <line x1=\"10\" y1=\"0\" x2=\"35\" y2=\"0\" style=\"stroke-width:2\" />\n",
       "  <line x1=\"33\" y1=\"23\" x2=\"58\" y2=\"23\" />\n",
       "  <line x1=\"57\" y1=\"47\" x2=\"82\" y2=\"47\" />\n",
       "  <line x1=\"80\" y1=\"70\" x2=\"106\" y2=\"70\" style=\"stroke-width:2\" />\n",
       "\n",
       "  <!-- Vertical lines -->\n",
       "  <line x1=\"10\" y1=\"0\" x2=\"80\" y2=\"70\" style=\"stroke-width:2\" />\n",
       "  <line x1=\"35\" y1=\"0\" x2=\"106\" y2=\"70\" style=\"stroke-width:2\" />\n",
       "\n",
       "  <!-- Colored Rectangle -->\n",
       "  <polygon points=\"10.0,0.0 35.41261651458248,0.0 106.00085180870013,70.58823529411765 80.58823529411765,70.58823529411765\" style=\"fill:#ECB172A0;stroke-width:0\"/>\n",
       "\n",
       "  <!-- Horizontal lines -->\n",
       "  <line x1=\"80\" y1=\"70\" x2=\"106\" y2=\"70\" style=\"stroke-width:2\" />\n",
       "  <line x1=\"80\" y1=\"96\" x2=\"106\" y2=\"96\" style=\"stroke-width:2\" />\n",
       "\n",
       "  <!-- Vertical lines -->\n",
       "  <line x1=\"80\" y1=\"70\" x2=\"80\" y2=\"96\" style=\"stroke-width:2\" />\n",
       "  <line x1=\"106\" y1=\"70\" x2=\"106\" y2=\"96\" style=\"stroke-width:2\" />\n",
       "\n",
       "  <!-- Colored Rectangle -->\n",
       "  <polygon points=\"80.58823529411765,70.58823529411765 106.00085180870013,70.58823529411765 106.00085180870013,96.00085180870013 80.58823529411765,96.00085180870013\" style=\"fill:#ECB172A0;stroke-width:0\"/>\n",
       "\n",
       "  <!-- Text -->\n",
       "  <text x=\"93.294544\" y=\"116.000852\" font-size=\"1.0rem\" font-weight=\"100\" text-anchor=\"middle\" >51</text>\n",
       "  <text x=\"126.000852\" y=\"83.294544\" font-size=\"1.0rem\" font-weight=\"100\" text-anchor=\"middle\" transform=\"rotate(0,126.000852,83.294544)\">71</text>\n",
       "  <text x=\"35.294118\" y=\"80.706734\" font-size=\"1.0rem\" font-weight=\"100\" text-anchor=\"middle\" transform=\"rotate(45,35.294118,80.706734)\">26304</text>\n",
       "</svg>\n",
       "</td>\n",
       "</tr>\n",
       "</table></div></li><li class='xr-var-item'><div class='xr-var-name'><span>swvl1</span></div><div class='xr-var-dims'>(time, latitude, longitude)</div><div class='xr-var-dtype'>float32</div><div class='xr-var-preview xr-preview'>dask.array&lt;chunksize=(8760, 71, 51), meta=np.ndarray&gt;</div><input id='attrs-ae9739f4-5c82-4b15-ae95-129e3d4ac425' class='xr-var-attrs-in' type='checkbox' ><label for='attrs-ae9739f4-5c82-4b15-ae95-129e3d4ac425' title='Show/Hide attributes'><svg class='icon xr-icon-file-text2'><use xlink:href='#icon-file-text2'></use></svg></label><input id='data-b4dd8b1e-130c-4848-9be8-b9ff8555a3d7' class='xr-var-data-in' type='checkbox'><label for='data-b4dd8b1e-130c-4848-9be8-b9ff8555a3d7' title='Show/Hide data repr'><svg class='icon xr-icon-database'><use xlink:href='#icon-database'></use></svg></label><div class='xr-var-attrs'><dl class='xr-attrs'><dt><span>units :</span></dt><dd>m**3 m**-3</dd><dt><span>long_name :</span></dt><dd>Volumetric soil water layer 1</dd></dl></div><div class='xr-var-data'><table>\n",
       "<tr>\n",
       "<td>\n",
       "<table>\n",
       "  <thead>\n",
       "    <tr><td> </td><th> Array </th><th> Chunk </th></tr>\n",
       "  </thead>\n",
       "  <tbody>\n",
       "    <tr><th> Bytes </th><td> 363.34 MiB </td> <td> 121.33 MiB </td></tr>\n",
       "    <tr><th> Shape </th><td> (26304, 71, 51) </td> <td> (8784, 71, 51) </td></tr>\n",
       "    <tr><th> Count </th><td> 9 Tasks </td><td> 3 Chunks </td></tr>\n",
       "    <tr><th> Type </th><td> float32 </td><td> numpy.ndarray </td></tr>\n",
       "  </tbody>\n",
       "</table>\n",
       "</td>\n",
       "<td>\n",
       "<svg width=\"156\" height=\"146\" style=\"stroke:rgb(0,0,0);stroke-width:1\" >\n",
       "\n",
       "  <!-- Horizontal lines -->\n",
       "  <line x1=\"10\" y1=\"0\" x2=\"80\" y2=\"70\" style=\"stroke-width:2\" />\n",
       "  <line x1=\"10\" y1=\"25\" x2=\"80\" y2=\"96\" style=\"stroke-width:2\" />\n",
       "\n",
       "  <!-- Vertical lines -->\n",
       "  <line x1=\"10\" y1=\"0\" x2=\"10\" y2=\"25\" style=\"stroke-width:2\" />\n",
       "  <line x1=\"33\" y1=\"23\" x2=\"33\" y2=\"48\" />\n",
       "  <line x1=\"57\" y1=\"47\" x2=\"57\" y2=\"72\" />\n",
       "  <line x1=\"80\" y1=\"70\" x2=\"80\" y2=\"96\" style=\"stroke-width:2\" />\n",
       "\n",
       "  <!-- Colored Rectangle -->\n",
       "  <polygon points=\"10.0,0.0 80.58823529411765,70.58823529411765 80.58823529411765,96.00085180870013 10.0,25.412616514582485\" style=\"fill:#ECB172A0;stroke-width:0\"/>\n",
       "\n",
       "  <!-- Horizontal lines -->\n",
       "  <line x1=\"10\" y1=\"0\" x2=\"35\" y2=\"0\" style=\"stroke-width:2\" />\n",
       "  <line x1=\"33\" y1=\"23\" x2=\"58\" y2=\"23\" />\n",
       "  <line x1=\"57\" y1=\"47\" x2=\"82\" y2=\"47\" />\n",
       "  <line x1=\"80\" y1=\"70\" x2=\"106\" y2=\"70\" style=\"stroke-width:2\" />\n",
       "\n",
       "  <!-- Vertical lines -->\n",
       "  <line x1=\"10\" y1=\"0\" x2=\"80\" y2=\"70\" style=\"stroke-width:2\" />\n",
       "  <line x1=\"35\" y1=\"0\" x2=\"106\" y2=\"70\" style=\"stroke-width:2\" />\n",
       "\n",
       "  <!-- Colored Rectangle -->\n",
       "  <polygon points=\"10.0,0.0 35.41261651458248,0.0 106.00085180870013,70.58823529411765 80.58823529411765,70.58823529411765\" style=\"fill:#ECB172A0;stroke-width:0\"/>\n",
       "\n",
       "  <!-- Horizontal lines -->\n",
       "  <line x1=\"80\" y1=\"70\" x2=\"106\" y2=\"70\" style=\"stroke-width:2\" />\n",
       "  <line x1=\"80\" y1=\"96\" x2=\"106\" y2=\"96\" style=\"stroke-width:2\" />\n",
       "\n",
       "  <!-- Vertical lines -->\n",
       "  <line x1=\"80\" y1=\"70\" x2=\"80\" y2=\"96\" style=\"stroke-width:2\" />\n",
       "  <line x1=\"106\" y1=\"70\" x2=\"106\" y2=\"96\" style=\"stroke-width:2\" />\n",
       "\n",
       "  <!-- Colored Rectangle -->\n",
       "  <polygon points=\"80.58823529411765,70.58823529411765 106.00085180870013,70.58823529411765 106.00085180870013,96.00085180870013 80.58823529411765,96.00085180870013\" style=\"fill:#ECB172A0;stroke-width:0\"/>\n",
       "\n",
       "  <!-- Text -->\n",
       "  <text x=\"93.294544\" y=\"116.000852\" font-size=\"1.0rem\" font-weight=\"100\" text-anchor=\"middle\" >51</text>\n",
       "  <text x=\"126.000852\" y=\"83.294544\" font-size=\"1.0rem\" font-weight=\"100\" text-anchor=\"middle\" transform=\"rotate(0,126.000852,83.294544)\">71</text>\n",
       "  <text x=\"35.294118\" y=\"80.706734\" font-size=\"1.0rem\" font-weight=\"100\" text-anchor=\"middle\" transform=\"rotate(45,35.294118,80.706734)\">26304</text>\n",
       "</svg>\n",
       "</td>\n",
       "</tr>\n",
       "</table></div></li><li class='xr-var-item'><div class='xr-var-name'><span>swvl2</span></div><div class='xr-var-dims'>(time, latitude, longitude)</div><div class='xr-var-dtype'>float32</div><div class='xr-var-preview xr-preview'>dask.array&lt;chunksize=(8760, 71, 51), meta=np.ndarray&gt;</div><input id='attrs-bd1b6302-f498-4937-9fb8-433f4b9a3454' class='xr-var-attrs-in' type='checkbox' ><label for='attrs-bd1b6302-f498-4937-9fb8-433f4b9a3454' title='Show/Hide attributes'><svg class='icon xr-icon-file-text2'><use xlink:href='#icon-file-text2'></use></svg></label><input id='data-6535503c-e112-4851-a485-f964c33bc9d6' class='xr-var-data-in' type='checkbox'><label for='data-6535503c-e112-4851-a485-f964c33bc9d6' title='Show/Hide data repr'><svg class='icon xr-icon-database'><use xlink:href='#icon-database'></use></svg></label><div class='xr-var-attrs'><dl class='xr-attrs'><dt><span>units :</span></dt><dd>m**3 m**-3</dd><dt><span>long_name :</span></dt><dd>Volumetric soil water layer 2</dd></dl></div><div class='xr-var-data'><table>\n",
       "<tr>\n",
       "<td>\n",
       "<table>\n",
       "  <thead>\n",
       "    <tr><td> </td><th> Array </th><th> Chunk </th></tr>\n",
       "  </thead>\n",
       "  <tbody>\n",
       "    <tr><th> Bytes </th><td> 363.34 MiB </td> <td> 121.33 MiB </td></tr>\n",
       "    <tr><th> Shape </th><td> (26304, 71, 51) </td> <td> (8784, 71, 51) </td></tr>\n",
       "    <tr><th> Count </th><td> 9 Tasks </td><td> 3 Chunks </td></tr>\n",
       "    <tr><th> Type </th><td> float32 </td><td> numpy.ndarray </td></tr>\n",
       "  </tbody>\n",
       "</table>\n",
       "</td>\n",
       "<td>\n",
       "<svg width=\"156\" height=\"146\" style=\"stroke:rgb(0,0,0);stroke-width:1\" >\n",
       "\n",
       "  <!-- Horizontal lines -->\n",
       "  <line x1=\"10\" y1=\"0\" x2=\"80\" y2=\"70\" style=\"stroke-width:2\" />\n",
       "  <line x1=\"10\" y1=\"25\" x2=\"80\" y2=\"96\" style=\"stroke-width:2\" />\n",
       "\n",
       "  <!-- Vertical lines -->\n",
       "  <line x1=\"10\" y1=\"0\" x2=\"10\" y2=\"25\" style=\"stroke-width:2\" />\n",
       "  <line x1=\"33\" y1=\"23\" x2=\"33\" y2=\"48\" />\n",
       "  <line x1=\"57\" y1=\"47\" x2=\"57\" y2=\"72\" />\n",
       "  <line x1=\"80\" y1=\"70\" x2=\"80\" y2=\"96\" style=\"stroke-width:2\" />\n",
       "\n",
       "  <!-- Colored Rectangle -->\n",
       "  <polygon points=\"10.0,0.0 80.58823529411765,70.58823529411765 80.58823529411765,96.00085180870013 10.0,25.412616514582485\" style=\"fill:#ECB172A0;stroke-width:0\"/>\n",
       "\n",
       "  <!-- Horizontal lines -->\n",
       "  <line x1=\"10\" y1=\"0\" x2=\"35\" y2=\"0\" style=\"stroke-width:2\" />\n",
       "  <line x1=\"33\" y1=\"23\" x2=\"58\" y2=\"23\" />\n",
       "  <line x1=\"57\" y1=\"47\" x2=\"82\" y2=\"47\" />\n",
       "  <line x1=\"80\" y1=\"70\" x2=\"106\" y2=\"70\" style=\"stroke-width:2\" />\n",
       "\n",
       "  <!-- Vertical lines -->\n",
       "  <line x1=\"10\" y1=\"0\" x2=\"80\" y2=\"70\" style=\"stroke-width:2\" />\n",
       "  <line x1=\"35\" y1=\"0\" x2=\"106\" y2=\"70\" style=\"stroke-width:2\" />\n",
       "\n",
       "  <!-- Colored Rectangle -->\n",
       "  <polygon points=\"10.0,0.0 35.41261651458248,0.0 106.00085180870013,70.58823529411765 80.58823529411765,70.58823529411765\" style=\"fill:#ECB172A0;stroke-width:0\"/>\n",
       "\n",
       "  <!-- Horizontal lines -->\n",
       "  <line x1=\"80\" y1=\"70\" x2=\"106\" y2=\"70\" style=\"stroke-width:2\" />\n",
       "  <line x1=\"80\" y1=\"96\" x2=\"106\" y2=\"96\" style=\"stroke-width:2\" />\n",
       "\n",
       "  <!-- Vertical lines -->\n",
       "  <line x1=\"80\" y1=\"70\" x2=\"80\" y2=\"96\" style=\"stroke-width:2\" />\n",
       "  <line x1=\"106\" y1=\"70\" x2=\"106\" y2=\"96\" style=\"stroke-width:2\" />\n",
       "\n",
       "  <!-- Colored Rectangle -->\n",
       "  <polygon points=\"80.58823529411765,70.58823529411765 106.00085180870013,70.58823529411765 106.00085180870013,96.00085180870013 80.58823529411765,96.00085180870013\" style=\"fill:#ECB172A0;stroke-width:0\"/>\n",
       "\n",
       "  <!-- Text -->\n",
       "  <text x=\"93.294544\" y=\"116.000852\" font-size=\"1.0rem\" font-weight=\"100\" text-anchor=\"middle\" >51</text>\n",
       "  <text x=\"126.000852\" y=\"83.294544\" font-size=\"1.0rem\" font-weight=\"100\" text-anchor=\"middle\" transform=\"rotate(0,126.000852,83.294544)\">71</text>\n",
       "  <text x=\"35.294118\" y=\"80.706734\" font-size=\"1.0rem\" font-weight=\"100\" text-anchor=\"middle\" transform=\"rotate(45,35.294118,80.706734)\">26304</text>\n",
       "</svg>\n",
       "</td>\n",
       "</tr>\n",
       "</table></div></li><li class='xr-var-item'><div class='xr-var-name'><span>swvl3</span></div><div class='xr-var-dims'>(time, latitude, longitude)</div><div class='xr-var-dtype'>float32</div><div class='xr-var-preview xr-preview'>dask.array&lt;chunksize=(8760, 71, 51), meta=np.ndarray&gt;</div><input id='attrs-1b77b9be-81b7-4f69-95c4-803a06c4be44' class='xr-var-attrs-in' type='checkbox' ><label for='attrs-1b77b9be-81b7-4f69-95c4-803a06c4be44' title='Show/Hide attributes'><svg class='icon xr-icon-file-text2'><use xlink:href='#icon-file-text2'></use></svg></label><input id='data-26be8bb7-3d20-4b7c-a081-625732e541a8' class='xr-var-data-in' type='checkbox'><label for='data-26be8bb7-3d20-4b7c-a081-625732e541a8' title='Show/Hide data repr'><svg class='icon xr-icon-database'><use xlink:href='#icon-database'></use></svg></label><div class='xr-var-attrs'><dl class='xr-attrs'><dt><span>units :</span></dt><dd>m**3 m**-3</dd><dt><span>long_name :</span></dt><dd>Volumetric soil water layer 3</dd></dl></div><div class='xr-var-data'><table>\n",
       "<tr>\n",
       "<td>\n",
       "<table>\n",
       "  <thead>\n",
       "    <tr><td> </td><th> Array </th><th> Chunk </th></tr>\n",
       "  </thead>\n",
       "  <tbody>\n",
       "    <tr><th> Bytes </th><td> 363.34 MiB </td> <td> 121.33 MiB </td></tr>\n",
       "    <tr><th> Shape </th><td> (26304, 71, 51) </td> <td> (8784, 71, 51) </td></tr>\n",
       "    <tr><th> Count </th><td> 9 Tasks </td><td> 3 Chunks </td></tr>\n",
       "    <tr><th> Type </th><td> float32 </td><td> numpy.ndarray </td></tr>\n",
       "  </tbody>\n",
       "</table>\n",
       "</td>\n",
       "<td>\n",
       "<svg width=\"156\" height=\"146\" style=\"stroke:rgb(0,0,0);stroke-width:1\" >\n",
       "\n",
       "  <!-- Horizontal lines -->\n",
       "  <line x1=\"10\" y1=\"0\" x2=\"80\" y2=\"70\" style=\"stroke-width:2\" />\n",
       "  <line x1=\"10\" y1=\"25\" x2=\"80\" y2=\"96\" style=\"stroke-width:2\" />\n",
       "\n",
       "  <!-- Vertical lines -->\n",
       "  <line x1=\"10\" y1=\"0\" x2=\"10\" y2=\"25\" style=\"stroke-width:2\" />\n",
       "  <line x1=\"33\" y1=\"23\" x2=\"33\" y2=\"48\" />\n",
       "  <line x1=\"57\" y1=\"47\" x2=\"57\" y2=\"72\" />\n",
       "  <line x1=\"80\" y1=\"70\" x2=\"80\" y2=\"96\" style=\"stroke-width:2\" />\n",
       "\n",
       "  <!-- Colored Rectangle -->\n",
       "  <polygon points=\"10.0,0.0 80.58823529411765,70.58823529411765 80.58823529411765,96.00085180870013 10.0,25.412616514582485\" style=\"fill:#ECB172A0;stroke-width:0\"/>\n",
       "\n",
       "  <!-- Horizontal lines -->\n",
       "  <line x1=\"10\" y1=\"0\" x2=\"35\" y2=\"0\" style=\"stroke-width:2\" />\n",
       "  <line x1=\"33\" y1=\"23\" x2=\"58\" y2=\"23\" />\n",
       "  <line x1=\"57\" y1=\"47\" x2=\"82\" y2=\"47\" />\n",
       "  <line x1=\"80\" y1=\"70\" x2=\"106\" y2=\"70\" style=\"stroke-width:2\" />\n",
       "\n",
       "  <!-- Vertical lines -->\n",
       "  <line x1=\"10\" y1=\"0\" x2=\"80\" y2=\"70\" style=\"stroke-width:2\" />\n",
       "  <line x1=\"35\" y1=\"0\" x2=\"106\" y2=\"70\" style=\"stroke-width:2\" />\n",
       "\n",
       "  <!-- Colored Rectangle -->\n",
       "  <polygon points=\"10.0,0.0 35.41261651458248,0.0 106.00085180870013,70.58823529411765 80.58823529411765,70.58823529411765\" style=\"fill:#ECB172A0;stroke-width:0\"/>\n",
       "\n",
       "  <!-- Horizontal lines -->\n",
       "  <line x1=\"80\" y1=\"70\" x2=\"106\" y2=\"70\" style=\"stroke-width:2\" />\n",
       "  <line x1=\"80\" y1=\"96\" x2=\"106\" y2=\"96\" style=\"stroke-width:2\" />\n",
       "\n",
       "  <!-- Vertical lines -->\n",
       "  <line x1=\"80\" y1=\"70\" x2=\"80\" y2=\"96\" style=\"stroke-width:2\" />\n",
       "  <line x1=\"106\" y1=\"70\" x2=\"106\" y2=\"96\" style=\"stroke-width:2\" />\n",
       "\n",
       "  <!-- Colored Rectangle -->\n",
       "  <polygon points=\"80.58823529411765,70.58823529411765 106.00085180870013,70.58823529411765 106.00085180870013,96.00085180870013 80.58823529411765,96.00085180870013\" style=\"fill:#ECB172A0;stroke-width:0\"/>\n",
       "\n",
       "  <!-- Text -->\n",
       "  <text x=\"93.294544\" y=\"116.000852\" font-size=\"1.0rem\" font-weight=\"100\" text-anchor=\"middle\" >51</text>\n",
       "  <text x=\"126.000852\" y=\"83.294544\" font-size=\"1.0rem\" font-weight=\"100\" text-anchor=\"middle\" transform=\"rotate(0,126.000852,83.294544)\">71</text>\n",
       "  <text x=\"35.294118\" y=\"80.706734\" font-size=\"1.0rem\" font-weight=\"100\" text-anchor=\"middle\" transform=\"rotate(45,35.294118,80.706734)\">26304</text>\n",
       "</svg>\n",
       "</td>\n",
       "</tr>\n",
       "</table></div></li><li class='xr-var-item'><div class='xr-var-name'><span>swvl4</span></div><div class='xr-var-dims'>(time, latitude, longitude)</div><div class='xr-var-dtype'>float32</div><div class='xr-var-preview xr-preview'>dask.array&lt;chunksize=(8760, 71, 51), meta=np.ndarray&gt;</div><input id='attrs-f92daf93-32ff-4820-8dfa-bc50006bb7ac' class='xr-var-attrs-in' type='checkbox' ><label for='attrs-f92daf93-32ff-4820-8dfa-bc50006bb7ac' title='Show/Hide attributes'><svg class='icon xr-icon-file-text2'><use xlink:href='#icon-file-text2'></use></svg></label><input id='data-a0c05712-2310-482f-887c-b18ced694923' class='xr-var-data-in' type='checkbox'><label for='data-a0c05712-2310-482f-887c-b18ced694923' title='Show/Hide data repr'><svg class='icon xr-icon-database'><use xlink:href='#icon-database'></use></svg></label><div class='xr-var-attrs'><dl class='xr-attrs'><dt><span>units :</span></dt><dd>m**3 m**-3</dd><dt><span>long_name :</span></dt><dd>Volumetric soil water layer 4</dd></dl></div><div class='xr-var-data'><table>\n",
       "<tr>\n",
       "<td>\n",
       "<table>\n",
       "  <thead>\n",
       "    <tr><td> </td><th> Array </th><th> Chunk </th></tr>\n",
       "  </thead>\n",
       "  <tbody>\n",
       "    <tr><th> Bytes </th><td> 363.34 MiB </td> <td> 121.33 MiB </td></tr>\n",
       "    <tr><th> Shape </th><td> (26304, 71, 51) </td> <td> (8784, 71, 51) </td></tr>\n",
       "    <tr><th> Count </th><td> 9 Tasks </td><td> 3 Chunks </td></tr>\n",
       "    <tr><th> Type </th><td> float32 </td><td> numpy.ndarray </td></tr>\n",
       "  </tbody>\n",
       "</table>\n",
       "</td>\n",
       "<td>\n",
       "<svg width=\"156\" height=\"146\" style=\"stroke:rgb(0,0,0);stroke-width:1\" >\n",
       "\n",
       "  <!-- Horizontal lines -->\n",
       "  <line x1=\"10\" y1=\"0\" x2=\"80\" y2=\"70\" style=\"stroke-width:2\" />\n",
       "  <line x1=\"10\" y1=\"25\" x2=\"80\" y2=\"96\" style=\"stroke-width:2\" />\n",
       "\n",
       "  <!-- Vertical lines -->\n",
       "  <line x1=\"10\" y1=\"0\" x2=\"10\" y2=\"25\" style=\"stroke-width:2\" />\n",
       "  <line x1=\"33\" y1=\"23\" x2=\"33\" y2=\"48\" />\n",
       "  <line x1=\"57\" y1=\"47\" x2=\"57\" y2=\"72\" />\n",
       "  <line x1=\"80\" y1=\"70\" x2=\"80\" y2=\"96\" style=\"stroke-width:2\" />\n",
       "\n",
       "  <!-- Colored Rectangle -->\n",
       "  <polygon points=\"10.0,0.0 80.58823529411765,70.58823529411765 80.58823529411765,96.00085180870013 10.0,25.412616514582485\" style=\"fill:#ECB172A0;stroke-width:0\"/>\n",
       "\n",
       "  <!-- Horizontal lines -->\n",
       "  <line x1=\"10\" y1=\"0\" x2=\"35\" y2=\"0\" style=\"stroke-width:2\" />\n",
       "  <line x1=\"33\" y1=\"23\" x2=\"58\" y2=\"23\" />\n",
       "  <line x1=\"57\" y1=\"47\" x2=\"82\" y2=\"47\" />\n",
       "  <line x1=\"80\" y1=\"70\" x2=\"106\" y2=\"70\" style=\"stroke-width:2\" />\n",
       "\n",
       "  <!-- Vertical lines -->\n",
       "  <line x1=\"10\" y1=\"0\" x2=\"80\" y2=\"70\" style=\"stroke-width:2\" />\n",
       "  <line x1=\"35\" y1=\"0\" x2=\"106\" y2=\"70\" style=\"stroke-width:2\" />\n",
       "\n",
       "  <!-- Colored Rectangle -->\n",
       "  <polygon points=\"10.0,0.0 35.41261651458248,0.0 106.00085180870013,70.58823529411765 80.58823529411765,70.58823529411765\" style=\"fill:#ECB172A0;stroke-width:0\"/>\n",
       "\n",
       "  <!-- Horizontal lines -->\n",
       "  <line x1=\"80\" y1=\"70\" x2=\"106\" y2=\"70\" style=\"stroke-width:2\" />\n",
       "  <line x1=\"80\" y1=\"96\" x2=\"106\" y2=\"96\" style=\"stroke-width:2\" />\n",
       "\n",
       "  <!-- Vertical lines -->\n",
       "  <line x1=\"80\" y1=\"70\" x2=\"80\" y2=\"96\" style=\"stroke-width:2\" />\n",
       "  <line x1=\"106\" y1=\"70\" x2=\"106\" y2=\"96\" style=\"stroke-width:2\" />\n",
       "\n",
       "  <!-- Colored Rectangle -->\n",
       "  <polygon points=\"80.58823529411765,70.58823529411765 106.00085180870013,70.58823529411765 106.00085180870013,96.00085180870013 80.58823529411765,96.00085180870013\" style=\"fill:#ECB172A0;stroke-width:0\"/>\n",
       "\n",
       "  <!-- Text -->\n",
       "  <text x=\"93.294544\" y=\"116.000852\" font-size=\"1.0rem\" font-weight=\"100\" text-anchor=\"middle\" >51</text>\n",
       "  <text x=\"126.000852\" y=\"83.294544\" font-size=\"1.0rem\" font-weight=\"100\" text-anchor=\"middle\" transform=\"rotate(0,126.000852,83.294544)\">71</text>\n",
       "  <text x=\"35.294118\" y=\"80.706734\" font-size=\"1.0rem\" font-weight=\"100\" text-anchor=\"middle\" transform=\"rotate(45,35.294118,80.706734)\">26304</text>\n",
       "</svg>\n",
       "</td>\n",
       "</tr>\n",
       "</table></div></li><li class='xr-var-item'><div class='xr-var-name'><span>tp</span></div><div class='xr-var-dims'>(time, latitude, longitude)</div><div class='xr-var-dtype'>float32</div><div class='xr-var-preview xr-preview'>dask.array&lt;chunksize=(8760, 71, 51), meta=np.ndarray&gt;</div><input id='attrs-ba8dc7db-9d02-435b-b454-9483112ca154' class='xr-var-attrs-in' type='checkbox' disabled><label for='attrs-ba8dc7db-9d02-435b-b454-9483112ca154' title='Show/Hide attributes'><svg class='icon xr-icon-file-text2'><use xlink:href='#icon-file-text2'></use></svg></label><input id='data-137f3259-5fee-4449-8b29-5d8198262500' class='xr-var-data-in' type='checkbox'><label for='data-137f3259-5fee-4449-8b29-5d8198262500' title='Show/Hide data repr'><svg class='icon xr-icon-database'><use xlink:href='#icon-database'></use></svg></label><div class='xr-var-attrs'><dl class='xr-attrs'></dl></div><div class='xr-var-data'><table>\n",
       "<tr>\n",
       "<td>\n",
       "<table>\n",
       "  <thead>\n",
       "    <tr><td> </td><th> Array </th><th> Chunk </th></tr>\n",
       "  </thead>\n",
       "  <tbody>\n",
       "    <tr><th> Bytes </th><td> 363.34 MiB </td> <td> 121.33 MiB </td></tr>\n",
       "    <tr><th> Shape </th><td> (26304, 71, 51) </td> <td> (8784, 71, 51) </td></tr>\n",
       "    <tr><th> Count </th><td> 41 Tasks </td><td> 3 Chunks </td></tr>\n",
       "    <tr><th> Type </th><td> float32 </td><td> numpy.ndarray </td></tr>\n",
       "  </tbody>\n",
       "</table>\n",
       "</td>\n",
       "<td>\n",
       "<svg width=\"156\" height=\"146\" style=\"stroke:rgb(0,0,0);stroke-width:1\" >\n",
       "\n",
       "  <!-- Horizontal lines -->\n",
       "  <line x1=\"10\" y1=\"0\" x2=\"80\" y2=\"70\" style=\"stroke-width:2\" />\n",
       "  <line x1=\"10\" y1=\"25\" x2=\"80\" y2=\"96\" style=\"stroke-width:2\" />\n",
       "\n",
       "  <!-- Vertical lines -->\n",
       "  <line x1=\"10\" y1=\"0\" x2=\"10\" y2=\"25\" style=\"stroke-width:2\" />\n",
       "  <line x1=\"33\" y1=\"23\" x2=\"33\" y2=\"48\" />\n",
       "  <line x1=\"57\" y1=\"47\" x2=\"57\" y2=\"72\" />\n",
       "  <line x1=\"80\" y1=\"70\" x2=\"80\" y2=\"96\" style=\"stroke-width:2\" />\n",
       "\n",
       "  <!-- Colored Rectangle -->\n",
       "  <polygon points=\"10.0,0.0 80.58823529411765,70.58823529411765 80.58823529411765,96.00085180870013 10.0,25.412616514582485\" style=\"fill:#ECB172A0;stroke-width:0\"/>\n",
       "\n",
       "  <!-- Horizontal lines -->\n",
       "  <line x1=\"10\" y1=\"0\" x2=\"35\" y2=\"0\" style=\"stroke-width:2\" />\n",
       "  <line x1=\"33\" y1=\"23\" x2=\"58\" y2=\"23\" />\n",
       "  <line x1=\"57\" y1=\"47\" x2=\"82\" y2=\"47\" />\n",
       "  <line x1=\"80\" y1=\"70\" x2=\"106\" y2=\"70\" style=\"stroke-width:2\" />\n",
       "\n",
       "  <!-- Vertical lines -->\n",
       "  <line x1=\"10\" y1=\"0\" x2=\"80\" y2=\"70\" style=\"stroke-width:2\" />\n",
       "  <line x1=\"35\" y1=\"0\" x2=\"106\" y2=\"70\" style=\"stroke-width:2\" />\n",
       "\n",
       "  <!-- Colored Rectangle -->\n",
       "  <polygon points=\"10.0,0.0 35.41261651458248,0.0 106.00085180870013,70.58823529411765 80.58823529411765,70.58823529411765\" style=\"fill:#ECB172A0;stroke-width:0\"/>\n",
       "\n",
       "  <!-- Horizontal lines -->\n",
       "  <line x1=\"80\" y1=\"70\" x2=\"106\" y2=\"70\" style=\"stroke-width:2\" />\n",
       "  <line x1=\"80\" y1=\"96\" x2=\"106\" y2=\"96\" style=\"stroke-width:2\" />\n",
       "\n",
       "  <!-- Vertical lines -->\n",
       "  <line x1=\"80\" y1=\"70\" x2=\"80\" y2=\"96\" style=\"stroke-width:2\" />\n",
       "  <line x1=\"106\" y1=\"70\" x2=\"106\" y2=\"96\" style=\"stroke-width:2\" />\n",
       "\n",
       "  <!-- Colored Rectangle -->\n",
       "  <polygon points=\"80.58823529411765,70.58823529411765 106.00085180870013,70.58823529411765 106.00085180870013,96.00085180870013 80.58823529411765,96.00085180870013\" style=\"fill:#ECB172A0;stroke-width:0\"/>\n",
       "\n",
       "  <!-- Text -->\n",
       "  <text x=\"93.294544\" y=\"116.000852\" font-size=\"1.0rem\" font-weight=\"100\" text-anchor=\"middle\" >51</text>\n",
       "  <text x=\"126.000852\" y=\"83.294544\" font-size=\"1.0rem\" font-weight=\"100\" text-anchor=\"middle\" transform=\"rotate(0,126.000852,83.294544)\">71</text>\n",
       "  <text x=\"35.294118\" y=\"80.706734\" font-size=\"1.0rem\" font-weight=\"100\" text-anchor=\"middle\" transform=\"rotate(45,35.294118,80.706734)\">26304</text>\n",
       "</svg>\n",
       "</td>\n",
       "</tr>\n",
       "</table></div></li><li class='xr-var-item'><div class='xr-var-name'><span>u10</span></div><div class='xr-var-dims'>(time, latitude, longitude)</div><div class='xr-var-dtype'>float32</div><div class='xr-var-preview xr-preview'>dask.array&lt;chunksize=(8760, 71, 51), meta=np.ndarray&gt;</div><input id='attrs-5ace7d61-22be-45b8-83e5-b5c48699cc46' class='xr-var-attrs-in' type='checkbox' ><label for='attrs-5ace7d61-22be-45b8-83e5-b5c48699cc46' title='Show/Hide attributes'><svg class='icon xr-icon-file-text2'><use xlink:href='#icon-file-text2'></use></svg></label><input id='data-7c950948-cce0-4757-a667-d10cb06fc95b' class='xr-var-data-in' type='checkbox'><label for='data-7c950948-cce0-4757-a667-d10cb06fc95b' title='Show/Hide data repr'><svg class='icon xr-icon-database'><use xlink:href='#icon-database'></use></svg></label><div class='xr-var-attrs'><dl class='xr-attrs'><dt><span>units :</span></dt><dd>m s**-1</dd><dt><span>long_name :</span></dt><dd>10 metre U wind component</dd></dl></div><div class='xr-var-data'><table>\n",
       "<tr>\n",
       "<td>\n",
       "<table>\n",
       "  <thead>\n",
       "    <tr><td> </td><th> Array </th><th> Chunk </th></tr>\n",
       "  </thead>\n",
       "  <tbody>\n",
       "    <tr><th> Bytes </th><td> 363.34 MiB </td> <td> 121.33 MiB </td></tr>\n",
       "    <tr><th> Shape </th><td> (26304, 71, 51) </td> <td> (8784, 71, 51) </td></tr>\n",
       "    <tr><th> Count </th><td> 9 Tasks </td><td> 3 Chunks </td></tr>\n",
       "    <tr><th> Type </th><td> float32 </td><td> numpy.ndarray </td></tr>\n",
       "  </tbody>\n",
       "</table>\n",
       "</td>\n",
       "<td>\n",
       "<svg width=\"156\" height=\"146\" style=\"stroke:rgb(0,0,0);stroke-width:1\" >\n",
       "\n",
       "  <!-- Horizontal lines -->\n",
       "  <line x1=\"10\" y1=\"0\" x2=\"80\" y2=\"70\" style=\"stroke-width:2\" />\n",
       "  <line x1=\"10\" y1=\"25\" x2=\"80\" y2=\"96\" style=\"stroke-width:2\" />\n",
       "\n",
       "  <!-- Vertical lines -->\n",
       "  <line x1=\"10\" y1=\"0\" x2=\"10\" y2=\"25\" style=\"stroke-width:2\" />\n",
       "  <line x1=\"33\" y1=\"23\" x2=\"33\" y2=\"48\" />\n",
       "  <line x1=\"57\" y1=\"47\" x2=\"57\" y2=\"72\" />\n",
       "  <line x1=\"80\" y1=\"70\" x2=\"80\" y2=\"96\" style=\"stroke-width:2\" />\n",
       "\n",
       "  <!-- Colored Rectangle -->\n",
       "  <polygon points=\"10.0,0.0 80.58823529411765,70.58823529411765 80.58823529411765,96.00085180870013 10.0,25.412616514582485\" style=\"fill:#ECB172A0;stroke-width:0\"/>\n",
       "\n",
       "  <!-- Horizontal lines -->\n",
       "  <line x1=\"10\" y1=\"0\" x2=\"35\" y2=\"0\" style=\"stroke-width:2\" />\n",
       "  <line x1=\"33\" y1=\"23\" x2=\"58\" y2=\"23\" />\n",
       "  <line x1=\"57\" y1=\"47\" x2=\"82\" y2=\"47\" />\n",
       "  <line x1=\"80\" y1=\"70\" x2=\"106\" y2=\"70\" style=\"stroke-width:2\" />\n",
       "\n",
       "  <!-- Vertical lines -->\n",
       "  <line x1=\"10\" y1=\"0\" x2=\"80\" y2=\"70\" style=\"stroke-width:2\" />\n",
       "  <line x1=\"35\" y1=\"0\" x2=\"106\" y2=\"70\" style=\"stroke-width:2\" />\n",
       "\n",
       "  <!-- Colored Rectangle -->\n",
       "  <polygon points=\"10.0,0.0 35.41261651458248,0.0 106.00085180870013,70.58823529411765 80.58823529411765,70.58823529411765\" style=\"fill:#ECB172A0;stroke-width:0\"/>\n",
       "\n",
       "  <!-- Horizontal lines -->\n",
       "  <line x1=\"80\" y1=\"70\" x2=\"106\" y2=\"70\" style=\"stroke-width:2\" />\n",
       "  <line x1=\"80\" y1=\"96\" x2=\"106\" y2=\"96\" style=\"stroke-width:2\" />\n",
       "\n",
       "  <!-- Vertical lines -->\n",
       "  <line x1=\"80\" y1=\"70\" x2=\"80\" y2=\"96\" style=\"stroke-width:2\" />\n",
       "  <line x1=\"106\" y1=\"70\" x2=\"106\" y2=\"96\" style=\"stroke-width:2\" />\n",
       "\n",
       "  <!-- Colored Rectangle -->\n",
       "  <polygon points=\"80.58823529411765,70.58823529411765 106.00085180870013,70.58823529411765 106.00085180870013,96.00085180870013 80.58823529411765,96.00085180870013\" style=\"fill:#ECB172A0;stroke-width:0\"/>\n",
       "\n",
       "  <!-- Text -->\n",
       "  <text x=\"93.294544\" y=\"116.000852\" font-size=\"1.0rem\" font-weight=\"100\" text-anchor=\"middle\" >51</text>\n",
       "  <text x=\"126.000852\" y=\"83.294544\" font-size=\"1.0rem\" font-weight=\"100\" text-anchor=\"middle\" transform=\"rotate(0,126.000852,83.294544)\">71</text>\n",
       "  <text x=\"35.294118\" y=\"80.706734\" font-size=\"1.0rem\" font-weight=\"100\" text-anchor=\"middle\" transform=\"rotate(45,35.294118,80.706734)\">26304</text>\n",
       "</svg>\n",
       "</td>\n",
       "</tr>\n",
       "</table></div></li><li class='xr-var-item'><div class='xr-var-name'><span>v10</span></div><div class='xr-var-dims'>(time, latitude, longitude)</div><div class='xr-var-dtype'>float32</div><div class='xr-var-preview xr-preview'>dask.array&lt;chunksize=(8760, 71, 51), meta=np.ndarray&gt;</div><input id='attrs-2d615b82-e6c6-424c-bc7e-5a50370456da' class='xr-var-attrs-in' type='checkbox' ><label for='attrs-2d615b82-e6c6-424c-bc7e-5a50370456da' title='Show/Hide attributes'><svg class='icon xr-icon-file-text2'><use xlink:href='#icon-file-text2'></use></svg></label><input id='data-a1cb0c79-9329-4329-8833-163d1c9f21f4' class='xr-var-data-in' type='checkbox'><label for='data-a1cb0c79-9329-4329-8833-163d1c9f21f4' title='Show/Hide data repr'><svg class='icon xr-icon-database'><use xlink:href='#icon-database'></use></svg></label><div class='xr-var-attrs'><dl class='xr-attrs'><dt><span>units :</span></dt><dd>m s**-1</dd><dt><span>long_name :</span></dt><dd>10 metre V wind component</dd></dl></div><div class='xr-var-data'><table>\n",
       "<tr>\n",
       "<td>\n",
       "<table>\n",
       "  <thead>\n",
       "    <tr><td> </td><th> Array </th><th> Chunk </th></tr>\n",
       "  </thead>\n",
       "  <tbody>\n",
       "    <tr><th> Bytes </th><td> 363.34 MiB </td> <td> 121.33 MiB </td></tr>\n",
       "    <tr><th> Shape </th><td> (26304, 71, 51) </td> <td> (8784, 71, 51) </td></tr>\n",
       "    <tr><th> Count </th><td> 9 Tasks </td><td> 3 Chunks </td></tr>\n",
       "    <tr><th> Type </th><td> float32 </td><td> numpy.ndarray </td></tr>\n",
       "  </tbody>\n",
       "</table>\n",
       "</td>\n",
       "<td>\n",
       "<svg width=\"156\" height=\"146\" style=\"stroke:rgb(0,0,0);stroke-width:1\" >\n",
       "\n",
       "  <!-- Horizontal lines -->\n",
       "  <line x1=\"10\" y1=\"0\" x2=\"80\" y2=\"70\" style=\"stroke-width:2\" />\n",
       "  <line x1=\"10\" y1=\"25\" x2=\"80\" y2=\"96\" style=\"stroke-width:2\" />\n",
       "\n",
       "  <!-- Vertical lines -->\n",
       "  <line x1=\"10\" y1=\"0\" x2=\"10\" y2=\"25\" style=\"stroke-width:2\" />\n",
       "  <line x1=\"33\" y1=\"23\" x2=\"33\" y2=\"48\" />\n",
       "  <line x1=\"57\" y1=\"47\" x2=\"57\" y2=\"72\" />\n",
       "  <line x1=\"80\" y1=\"70\" x2=\"80\" y2=\"96\" style=\"stroke-width:2\" />\n",
       "\n",
       "  <!-- Colored Rectangle -->\n",
       "  <polygon points=\"10.0,0.0 80.58823529411765,70.58823529411765 80.58823529411765,96.00085180870013 10.0,25.412616514582485\" style=\"fill:#ECB172A0;stroke-width:0\"/>\n",
       "\n",
       "  <!-- Horizontal lines -->\n",
       "  <line x1=\"10\" y1=\"0\" x2=\"35\" y2=\"0\" style=\"stroke-width:2\" />\n",
       "  <line x1=\"33\" y1=\"23\" x2=\"58\" y2=\"23\" />\n",
       "  <line x1=\"57\" y1=\"47\" x2=\"82\" y2=\"47\" />\n",
       "  <line x1=\"80\" y1=\"70\" x2=\"106\" y2=\"70\" style=\"stroke-width:2\" />\n",
       "\n",
       "  <!-- Vertical lines -->\n",
       "  <line x1=\"10\" y1=\"0\" x2=\"80\" y2=\"70\" style=\"stroke-width:2\" />\n",
       "  <line x1=\"35\" y1=\"0\" x2=\"106\" y2=\"70\" style=\"stroke-width:2\" />\n",
       "\n",
       "  <!-- Colored Rectangle -->\n",
       "  <polygon points=\"10.0,0.0 35.41261651458248,0.0 106.00085180870013,70.58823529411765 80.58823529411765,70.58823529411765\" style=\"fill:#ECB172A0;stroke-width:0\"/>\n",
       "\n",
       "  <!-- Horizontal lines -->\n",
       "  <line x1=\"80\" y1=\"70\" x2=\"106\" y2=\"70\" style=\"stroke-width:2\" />\n",
       "  <line x1=\"80\" y1=\"96\" x2=\"106\" y2=\"96\" style=\"stroke-width:2\" />\n",
       "\n",
       "  <!-- Vertical lines -->\n",
       "  <line x1=\"80\" y1=\"70\" x2=\"80\" y2=\"96\" style=\"stroke-width:2\" />\n",
       "  <line x1=\"106\" y1=\"70\" x2=\"106\" y2=\"96\" style=\"stroke-width:2\" />\n",
       "\n",
       "  <!-- Colored Rectangle -->\n",
       "  <polygon points=\"80.58823529411765,70.58823529411765 106.00085180870013,70.58823529411765 106.00085180870013,96.00085180870013 80.58823529411765,96.00085180870013\" style=\"fill:#ECB172A0;stroke-width:0\"/>\n",
       "\n",
       "  <!-- Text -->\n",
       "  <text x=\"93.294544\" y=\"116.000852\" font-size=\"1.0rem\" font-weight=\"100\" text-anchor=\"middle\" >51</text>\n",
       "  <text x=\"126.000852\" y=\"83.294544\" font-size=\"1.0rem\" font-weight=\"100\" text-anchor=\"middle\" transform=\"rotate(0,126.000852,83.294544)\">71</text>\n",
       "  <text x=\"35.294118\" y=\"80.706734\" font-size=\"1.0rem\" font-weight=\"100\" text-anchor=\"middle\" transform=\"rotate(45,35.294118,80.706734)\">26304</text>\n",
       "</svg>\n",
       "</td>\n",
       "</tr>\n",
       "</table></div></li></ul></div></li><li class='xr-section-item'><input id='section-3e723e5e-ca17-4112-825f-0ba3e7e79b6a' class='xr-section-summary-in' type='checkbox' disabled ><label for='section-3e723e5e-ca17-4112-825f-0ba3e7e79b6a' class='xr-section-summary'  title='Expand/collapse section'>Attributes: <span>(0)</span></label><div class='xr-section-inline-details'></div><div class='xr-section-details'><dl class='xr-attrs'></dl></div></li></ul></div></div>"
      ],
      "text/plain": [
       "<xarray.Dataset>\n",
       "Dimensions:    (latitude: 71, longitude: 51, time: 26304)\n",
       "Coordinates:\n",
       "  * longitude  (longitude) float32 -66.0 -65.9 -65.8 -65.7 ... -61.2 -61.1 -61.0\n",
       "  * latitude   (latitude) float32 -29.0 -29.1 -29.2 -29.3 ... -35.8 -35.9 -36.0\n",
       "  * time       (time) datetime64[ns] 2018-12-31T21:00:00 ... 2021-12-31T20:00:00\n",
       "Data variables:\n",
       "    lai_hv     (time, latitude, longitude) float32 dask.array<chunksize=(8760, 71, 51), meta=np.ndarray>\n",
       "    lai_lv     (time, latitude, longitude) float32 dask.array<chunksize=(8760, 71, 51), meta=np.ndarray>\n",
       "    ro         (time, latitude, longitude) float32 dask.array<chunksize=(8760, 71, 51), meta=np.ndarray>\n",
       "    sp         (time, latitude, longitude) float32 dask.array<chunksize=(8760, 71, 51), meta=np.ndarray>\n",
       "    sro        (time, latitude, longitude) float32 dask.array<chunksize=(8760, 71, 51), meta=np.ndarray>\n",
       "    swvl1      (time, latitude, longitude) float32 dask.array<chunksize=(8760, 71, 51), meta=np.ndarray>\n",
       "    swvl2      (time, latitude, longitude) float32 dask.array<chunksize=(8760, 71, 51), meta=np.ndarray>\n",
       "    swvl3      (time, latitude, longitude) float32 dask.array<chunksize=(8760, 71, 51), meta=np.ndarray>\n",
       "    swvl4      (time, latitude, longitude) float32 dask.array<chunksize=(8760, 71, 51), meta=np.ndarray>\n",
       "    tp         (time, latitude, longitude) float32 dask.array<chunksize=(8760, 71, 51), meta=np.ndarray>\n",
       "    u10        (time, latitude, longitude) float32 dask.array<chunksize=(8760, 71, 51), meta=np.ndarray>\n",
       "    v10        (time, latitude, longitude) float32 dask.array<chunksize=(8760, 71, 51), meta=np.ndarray>"
      ]
     },
     "execution_count": 7,
     "metadata": {},
     "output_type": "execute_result"
    }
   ],
   "source": [
    "era5land_adjusted_ds"
   ]
  },
  {
   "cell_type": "markdown",
   "id": "7dbb8803",
   "metadata": {},
   "source": [
    "Cargo los datos de las estaciones"
   ]
  },
  {
   "cell_type": "code",
   "execution_count": 8,
   "id": "e593220e",
   "metadata": {},
   "outputs": [
    {
     "data": {
      "text/html": [
       "<div>\n",
       "<style scoped>\n",
       "    .dataframe tbody tr th:only-of-type {\n",
       "        vertical-align: middle;\n",
       "    }\n",
       "\n",
       "    .dataframe tbody tr th {\n",
       "        vertical-align: top;\n",
       "    }\n",
       "\n",
       "    .dataframe thead th {\n",
       "        text-align: right;\n",
       "    }\n",
       "</style>\n",
       "<table border=\"1\" class=\"dataframe\">\n",
       "  <thead>\n",
       "    <tr style=\"text-align: right;\">\n",
       "      <th></th>\n",
       "      <th>nombre</th>\n",
       "      <th>lat</th>\n",
       "      <th>lon</th>\n",
       "      <th>grupo</th>\n",
       "    </tr>\n",
       "  </thead>\n",
       "  <tbody>\n",
       "    <tr>\n",
       "      <th>0</th>\n",
       "      <td>Dique Aforador</td>\n",
       "      <td>-32.931762</td>\n",
       "      <td>-62.332002</td>\n",
       "      <td>1</td>\n",
       "    </tr>\n",
       "    <tr>\n",
       "      <th>1</th>\n",
       "      <td>Justiniano Posse</td>\n",
       "      <td>-32.895530</td>\n",
       "      <td>-62.648230</td>\n",
       "      <td>1</td>\n",
       "    </tr>\n",
       "    <tr>\n",
       "      <th>2</th>\n",
       "      <td>Monte Buey</td>\n",
       "      <td>-32.897552</td>\n",
       "      <td>-62.442105</td>\n",
       "      <td>1</td>\n",
       "    </tr>\n",
       "    <tr>\n",
       "      <th>3</th>\n",
       "      <td>Buchardo</td>\n",
       "      <td>-34.706000</td>\n",
       "      <td>-63.503000</td>\n",
       "      <td>2</td>\n",
       "    </tr>\n",
       "    <tr>\n",
       "      <th>4</th>\n",
       "      <td>Rio Cuarto</td>\n",
       "      <td>-33.161200</td>\n",
       "      <td>-64.357000</td>\n",
       "      <td>3</td>\n",
       "    </tr>\n",
       "    <tr>\n",
       "      <th>5</th>\n",
       "      <td>Alpa Corral</td>\n",
       "      <td>-32.689484</td>\n",
       "      <td>-64.720150</td>\n",
       "      <td>3</td>\n",
       "    </tr>\n",
       "    <tr>\n",
       "      <th>6</th>\n",
       "      <td>Ruta8</td>\n",
       "      <td>-33.138248</td>\n",
       "      <td>-64.284920</td>\n",
       "      <td>3</td>\n",
       "    </tr>\n",
       "    <tr>\n",
       "      <th>7</th>\n",
       "      <td>RP26</td>\n",
       "      <td>-34.762833</td>\n",
       "      <td>-63.644930</td>\n",
       "      <td>2</td>\n",
       "    </tr>\n",
       "    <tr>\n",
       "      <th>8</th>\n",
       "      <td>FAV - UNRC</td>\n",
       "      <td>-32.968273</td>\n",
       "      <td>-64.652778</td>\n",
       "      <td>3</td>\n",
       "    </tr>\n",
       "    <tr>\n",
       "      <th>9</th>\n",
       "      <td>Tincunaco</td>\n",
       "      <td>-32.903340</td>\n",
       "      <td>-64.716535</td>\n",
       "      <td>3</td>\n",
       "    </tr>\n",
       "  </tbody>\n",
       "</table>\n",
       "</div>"
      ],
      "text/plain": [
       "             nombre        lat        lon  grupo\n",
       "0    Dique Aforador -32.931762 -62.332002      1\n",
       "1  Justiniano Posse -32.895530 -62.648230      1\n",
       "2        Monte Buey -32.897552 -62.442105      1\n",
       "3          Buchardo -34.706000 -63.503000      2\n",
       "4        Rio Cuarto -33.161200 -64.357000      3\n",
       "5       Alpa Corral -32.689484 -64.720150      3\n",
       "6             Ruta8 -33.138248 -64.284920      3\n",
       "7              RP26 -34.762833 -63.644930      2\n",
       "8        FAV - UNRC -32.968273 -64.652778      3\n",
       "9         Tincunaco -32.903340 -64.716535      3"
      ]
     },
     "execution_count": 8,
     "metadata": {},
     "output_type": "execute_result"
    }
   ],
   "source": [
    "# Cargo Lista de ubicaciones\n",
    "obs_path = '/datos/julian.giles/flash_flood/datos_estaciones/'\n",
    "ubicaciones = pd.read_csv(obs_path+'ubicaciones_estaciones.csv', sep=';')\n",
    "ubicaciones"
   ]
  },
  {
   "cell_type": "code",
   "execution_count": 9,
   "id": "b2e602c2",
   "metadata": {},
   "outputs": [
    {
     "name": "stderr",
     "output_type": "stream",
     "text": [
      "/home/julian.giles/anaconda3/envs/work5/lib/python3.9/site-packages/IPython/core/interactiveshell.py:3165: DtypeWarning: Columns (7) have mixed types.Specify dtype option on import or set low_memory=False.\n",
      "  has_raised = await self.run_ast_nodes(code_ast.body, cell_name,\n",
      "/home/julian.giles/anaconda3/envs/work5/lib/python3.9/site-packages/IPython/core/interactiveshell.py:3165: DtypeWarning: Columns (7) have mixed types.Specify dtype option on import or set low_memory=False.\n",
      "  has_raised = await self.run_ast_nodes(code_ast.body, cell_name,\n",
      "/home/julian.giles/anaconda3/envs/work5/lib/python3.9/site-packages/IPython/core/interactiveshell.py:3165: DtypeWarning: Columns (7) have mixed types.Specify dtype option on import or set low_memory=False.\n",
      "  has_raised = await self.run_ast_nodes(code_ast.body, cell_name,\n",
      "/home/julian.giles/anaconda3/envs/work5/lib/python3.9/site-packages/IPython/core/interactiveshell.py:3165: DtypeWarning: Columns (7) have mixed types.Specify dtype option on import or set low_memory=False.\n",
      "  has_raised = await self.run_ast_nodes(code_ast.body, cell_name,\n"
     ]
    }
   ],
   "source": [
    "datos = dict()\n",
    "files_list = os.listdir(obs_path)\n",
    "for nombre in ubicaciones['nombre']:\n",
    "    for file in files_list:\n",
    "        if re.search(\"\".join(nombre.split(' ')), file, flags=re.IGNORECASE):\n",
    "            datos[nombre] = pd.read_csv(obs_path+file, sep=';',low_memory=False, skip_blank_lines=True).dropna(how='all')\n",
    "            \n",
    "            if 'Fecha' in datos[nombre].columns:\n",
    "                datos[nombre] = pd.read_csv(obs_path+file, sep=';', skip_blank_lines=True, parse_dates=['Fecha'], dayfirst=True).dropna(how='all')\n",
    "                \n",
    "            elif 'Fecha y Hora' in datos[nombre].columns:\n",
    "                datos[nombre] = pd.read_csv(obs_path+file, sep=';', skip_blank_lines=True, parse_dates=['Fecha y Hora'], dayfirst=True).dropna(how='all')\n",
    "                \n",
    "            else:\n",
    "                datos[nombre] = pd.read_csv(obs_path+file, sep=';', skip_blank_lines=True, header=1).dropna(how='all')\n",
    "                \n",
    "                if 'Fecha' in datos[nombre].columns:\n",
    "                    datos[nombre] = pd.read_csv(obs_path+file, sep=';', skip_blank_lines=True, header=1, parse_dates=['Fecha'], dayfirst=True).dropna(how='all')\n",
    "\n",
    "                elif 'Fecha y Hora' in datos[nombre].columns:\n",
    "                    datos[nombre] = pd.read_csv(obs_path+file, sep=';', skip_blank_lines=True, header=1, parse_dates=['Fecha y Hora'], dayfirst=True).dropna(how='all')\n"
   ]
  },
  {
   "cell_type": "markdown",
   "id": "05f97e41",
   "metadata": {},
   "source": [
    "Aprox desde Junio 2020. Creamos un nuevo dataframe para ir guardando los datos recortados. Pasamos los datos a horarios."
   ]
  },
  {
   "cell_type": "code",
   "execution_count": 10,
   "id": "eb0a1d96",
   "metadata": {},
   "outputs": [],
   "source": [
    "fromdate = '2020-06-01 00:00:00'\n",
    "todate = '2021-12-31 00:00:00'\n",
    "\n",
    "datos_2 = dict()\n",
    "\n",
    "# IMPORTANTE: agregamos resample horario (a pesar de que ya está horario) para rellenar datos faltantes\n",
    "datos_2['Dique Aforador'] = datos['Dique Aforador'].loc[(datos['Dique Aforador']['Fecha y Hora']>=fromdate) & (datos['Dique Aforador']['Fecha y Hora']<=todate)].set_index('Fecha y Hora').resample('H').mean().interpolate()\n",
    "\n",
    "# IMPORTANTE!!!! como los datos son acumulados/promediados en el periodo anterior (los 10 min anteriores), hay que darle las opciones label='right', closed='right' para que los datos pasen a representar lo acumulado/promediado en la hora anterior\n",
    "datos_2['Justiniano Posse'] = datos['Justiniano Posse'].loc[(datos['Justiniano Posse']['Fecha']>=fromdate) & (datos['Justiniano Posse']['Fecha']<=todate)].set_index('Fecha').resample('H', label='right', closed='right').mean().interpolate()\n",
    "datos_2['Justiniano Posse']['Registro de Lluvia [mm]'] = datos_2['Justiniano Posse']['Registro de Lluvia [mm]']*6\n",
    "\n",
    "\n",
    "datos_2['Monte Buey'] = datos['Monte Buey'].loc[(datos['Monte Buey']['Fecha']>=fromdate) & (datos['Monte Buey']['Fecha']<=todate)].set_index('Fecha').resample('H', label='right', closed='right').mean().interpolate()\n",
    "datos_2['Monte Buey']['Registro de Lluvia [mm]'] = datos_2['Monte Buey']['Registro de Lluvia [mm]']*6\n"
   ]
  },
  {
   "cell_type": "code",
   "execution_count": 11,
   "id": "ca5c410e",
   "metadata": {
    "scrolled": true
   },
   "outputs": [
    {
     "data": {
      "text/plain": [
       "<AxesSubplot:xlabel='Fecha y Hora'>"
      ]
     },
     "execution_count": 11,
     "metadata": {},
     "output_type": "execute_result"
    },
    {
     "data": {
      "image/png": "[encoded data removed]",
      "text/plain": [
       "<Figure size 432x288 with 1 Axes>"
      ]
     },
     "metadata": {
      "needs_background": "light"
     },
     "output_type": "display_data"
    }
   ],
   "source": [
    "datos_2['Dique Aforador'].plot()"
   ]
  },
  {
   "cell_type": "code",
   "execution_count": 12,
   "id": "ea1674a8",
   "metadata": {},
   "outputs": [
    {
     "data": {
      "text/plain": [
       "Index(['Temperatura [°C]', 'Humedad [%HR]', 'Punto de rocío [°C]',\n",
       "       'Registro de Lluvia [mm]', 'Velocidad de Viento [Km/h]',\n",
       "       'Direccion de Viento [°]', 'Rafaga de Viento [km/h]', 'Presion [hPa]',\n",
       "       'Radiacion Solar [w/m2]', 'Temperatura de suelo [°C]',\n",
       "       'Nivel de Napa Freática [cm]'],\n",
       "      dtype='object')"
      ]
     },
     "execution_count": 12,
     "metadata": {},
     "output_type": "execute_result"
    }
   ],
   "source": [
    "datos_2['Justiniano Posse'].columns"
   ]
  },
  {
   "cell_type": "code",
   "execution_count": 13,
   "id": "8c0cecd5",
   "metadata": {},
   "outputs": [
    {
     "data": {
      "text/plain": [
       "<AxesSubplot:xlabel='Fecha'>"
      ]
     },
     "execution_count": 13,
     "metadata": {},
     "output_type": "execute_result"
    },
    {
     "data": {
      "image/png": "[encoded data removed]",
      "text/plain": [
       "<Figure size 432x288 with 1 Axes>"
      ]
     },
     "metadata": {
      "needs_background": "light"
     },
     "output_type": "display_data"
    }
   ],
   "source": [
    "datos_2['Justiniano Posse'].plot( y=['Nivel de Napa Freática [cm]', 'Registro de Lluvia [mm]'])"
   ]
  },
  {
   "cell_type": "code",
   "execution_count": 14,
   "id": "727eea11",
   "metadata": {},
   "outputs": [
    {
     "data": {
      "text/plain": [
       "Index(['Temperatura [°C]', 'Humedad [%HR]', 'Punto de rocío [°C]',\n",
       "       'Registro de Lluvia [mm]', 'Velocidad de Viento [Km/h]',\n",
       "       'Direccion de Viento [°]', 'Rafaga de Viento [km/h]', 'Presion [hPa]',\n",
       "       'Radiacion Solar [w/m2]', 'Temperatura de suelo [°C]',\n",
       "       'Nivel de Napa Freática [cm]'],\n",
       "      dtype='object')"
      ]
     },
     "execution_count": 14,
     "metadata": {},
     "output_type": "execute_result"
    }
   ],
   "source": [
    "datos_2['Monte Buey'].columns"
   ]
  },
  {
   "cell_type": "code",
   "execution_count": 15,
   "id": "7886bb54",
   "metadata": {},
   "outputs": [
    {
     "data": {
      "text/plain": [
       "<AxesSubplot:xlabel='Fecha'>"
      ]
     },
     "execution_count": 15,
     "metadata": {},
     "output_type": "execute_result"
    },
    {
     "data": {
      "image/png": "[encoded data removed]",
      "text/plain": [
       "<Figure size 432x288 with 1 Axes>"
      ]
     },
     "metadata": {
      "needs_background": "light"
     },
     "output_type": "display_data"
    }
   ],
   "source": [
    "datos_2['Monte Buey'].plot( y=['Nivel de Napa Freática [cm]', 'Registro de Lluvia [mm]'])"
   ]
  },
  {
   "cell_type": "markdown",
   "id": "ec7562b3",
   "metadata": {},
   "source": [
    "### Modelos de ML"
   ]
  },
  {
   "cell_type": "markdown",
   "id": "c8b34fa8",
   "metadata": {},
   "source": [
    "#### Baseline"
   ]
  },
  {
   "cell_type": "markdown",
   "id": "5eb89f6f",
   "metadata": {},
   "source": [
    "Vamos a empezar sólo con lluvia y nivel de napa como features y luego ver si agregando otras variables hay mejora en el modelo"
   ]
  },
  {
   "cell_type": "code",
   "execution_count": 16,
   "id": "6e1efce6",
   "metadata": {},
   "outputs": [],
   "source": [
    "from sklearn.linear_model import LinearRegression\n",
    "from sklearn.metrics import mean_squared_error\n",
    "from sklearn.metrics import mean_absolute_error\n",
    "from sklearn.pipeline import make_pipeline\n",
    "from sklearn.preprocessing import PolynomialFeatures\n",
    "from sklearn.preprocessing import StandardScaler\n",
    "from sklearn.model_selection import train_test_split"
   ]
  },
  {
   "cell_type": "code",
   "execution_count": 17,
   "id": "b7766647",
   "metadata": {},
   "outputs": [],
   "source": [
    "# Construimos nuestro dataframe de datos\n",
    "target = datos_2['Dique Aforador']\n",
    "data = pd.concat((datos_2['Justiniano Posse'][['Registro de Lluvia [mm]', 'Nivel de Napa Freática [cm]']], \n",
    "           datos_2['Monte Buey'][['Registro de Lluvia [mm]', 'Nivel de Napa Freática [cm]']]), axis=1)"
   ]
  },
  {
   "cell_type": "code",
   "execution_count": 18,
   "id": "762021d8",
   "metadata": {},
   "outputs": [],
   "source": [
    "# Definimos el modelo\n",
    "model = make_pipeline(StandardScaler(),  LinearRegression())"
   ]
  },
  {
   "cell_type": "code",
   "execution_count": 19,
   "id": "2ca01c38",
   "metadata": {},
   "outputs": [],
   "source": [
    "# Hacemos un split de datos y modelamos. Calculamos los errores medios\n",
    "data_train, data_test, target_train, target_test = train_test_split(data, target, test_size=0.25,\n",
    "                                                                    random_state=0, shuffle= False)\n",
    "\n",
    "model.fit(data_train, target_train)\n",
    "target_predicted = model.predict(data_test)\n",
    "mse = mean_squared_error(target_test, target_predicted)\n",
    "mae = mean_absolute_error(target_test, target_predicted)"
   ]
  },
  {
   "cell_type": "code",
   "execution_count": 20,
   "id": "97de508a",
   "metadata": {},
   "outputs": [
    {
     "name": "stdout",
     "output_type": "stream",
     "text": [
      "MSE: 0.12657042408500185. MAE: 0.29986900512785625\n"
     ]
    }
   ],
   "source": [
    "print('MSE: '+str(mse)+'. MAE: '+str(mae))"
   ]
  },
  {
   "cell_type": "code",
   "execution_count": 21,
   "id": "dde62bf1",
   "metadata": {},
   "outputs": [
    {
     "data": {
      "text/plain": [
       "[<matplotlib.lines.Line2D at 0x7f5164af4c40>]"
      ]
     },
     "execution_count": 21,
     "metadata": {},
     "output_type": "execute_result"
    },
    {
     "data": {
      "image/png": "[encoded data removed]",
      "text/plain": [
       "<Figure size 432x288 with 1 Axes>"
      ]
     },
     "metadata": {
      "needs_background": "light"
     },
     "output_type": "display_data"
    }
   ],
   "source": [
    "plt.plot(target_test['Altura [m]'].values, color= 'b'); plt.plot(target_predicted, color='r')"
   ]
  },
  {
   "cell_type": "markdown",
   "id": "374b6409",
   "metadata": {},
   "source": [
    "#### Más features"
   ]
  },
  {
   "cell_type": "markdown",
   "id": "4ba4115d",
   "metadata": {},
   "source": [
    "Probamos usando más las variables como features, a ver si mejora"
   ]
  },
  {
   "cell_type": "code",
   "execution_count": 22,
   "id": "b41c500d",
   "metadata": {},
   "outputs": [],
   "source": [
    "data_all = pd.concat((datos_2['Justiniano Posse'][['Temperatura [°C]', 'Humedad [%HR]',\n",
    "       'Registro de Lluvia [mm]', 'Velocidad de Viento [Km/h]',\n",
    "       'Direccion de Viento [°]', 'Rafaga de Viento [km/h]', 'Presion [hPa]',\n",
    "       'Radiacion Solar [w/m2]', 'Temperatura de suelo [°C]',\n",
    "       'Nivel de Napa Freática [cm]']], \n",
    "           datos_2['Monte Buey'][['Temperatura [°C]', 'Humedad [%HR]',\n",
    "       'Registro de Lluvia [mm]', 'Velocidad de Viento [Km/h]',\n",
    "       'Direccion de Viento [°]', 'Rafaga de Viento [km/h]', 'Presion [hPa]',\n",
    "       'Radiacion Solar [w/m2]', 'Temperatura de suelo [°C]',\n",
    "       'Nivel de Napa Freática [cm]']] ), axis=1)"
   ]
  },
  {
   "cell_type": "code",
   "execution_count": 23,
   "id": "b5aba4ff",
   "metadata": {},
   "outputs": [],
   "source": [
    "# Hacemos un split de datos y modelamos. Calculamos los errores medios\n",
    "data_all_train, data_all_test, target_train, target_test = train_test_split(data_all, target, test_size=0.25,\n",
    "                                                                    random_state=0, shuffle= False)\n",
    "\n",
    "model.fit(data_all_train, target_train)\n",
    "target_predicted = model.predict(data_all_test)\n",
    "mse = mean_squared_error(target_test, target_predicted)\n",
    "mae = mean_absolute_error(target_test, target_predicted)"
   ]
  },
  {
   "cell_type": "code",
   "execution_count": 24,
   "id": "35c277d1",
   "metadata": {},
   "outputs": [
    {
     "name": "stdout",
     "output_type": "stream",
     "text": [
      "MSE: 0.14792982731776785. MAE: 0.3214800747045618\n"
     ]
    }
   ],
   "source": [
    "print('MSE: '+str(mse)+'. MAE: '+str(mae))"
   ]
  },
  {
   "cell_type": "code",
   "execution_count": 25,
   "id": "a51797dc",
   "metadata": {},
   "outputs": [
    {
     "data": {
      "text/plain": [
       "[<matplotlib.lines.Line2D at 0x7f5164a69460>]"
      ]
     },
     "execution_count": 25,
     "metadata": {},
     "output_type": "execute_result"
    },
    {
     "data": {
      "image/png": "[encoded data removed]",
      "text/plain": [
       "<Figure size 432x288 with 1 Axes>"
      ]
     },
     "metadata": {
      "needs_background": "light"
     },
     "output_type": "display_data"
    }
   ],
   "source": [
    "plt.plot(target_test['Altura [m]'].values, color= 'b'); plt.plot(target_predicted, color='r')"
   ]
  },
  {
   "cell_type": "markdown",
   "id": "d61d104f",
   "metadata": {},
   "source": [
    "No hubo mejora. Hagamos otra prueba sacando algunas y dejando sólo las que creemos relevantes"
   ]
  },
  {
   "cell_type": "code",
   "execution_count": 26,
   "id": "c578dec8",
   "metadata": {},
   "outputs": [],
   "source": [
    "data_all = pd.concat((datos_2['Justiniano Posse'][['Temperatura [°C]',\n",
    "       'Registro de Lluvia [mm]', 'Velocidad de Viento [Km/h]', 'Presion [hPa]',\n",
    "       'Radiacion Solar [w/m2]', 'Temperatura de suelo [°C]',\n",
    "       'Nivel de Napa Freática [cm]']], \n",
    "           datos_2['Monte Buey'][['Temperatura [°C]',\n",
    "       'Registro de Lluvia [mm]', 'Velocidad de Viento [Km/h]', 'Presion [hPa]',\n",
    "       'Radiacion Solar [w/m2]', 'Temperatura de suelo [°C]',\n",
    "       'Nivel de Napa Freática [cm]']] ), axis=1)"
   ]
  },
  {
   "cell_type": "code",
   "execution_count": 27,
   "id": "eb1e7980",
   "metadata": {},
   "outputs": [],
   "source": [
    "# Hacemos un split de datos y modelamos. Calculamos los errores medios\n",
    "data_all_train, data_all_test, target_train, target_test = train_test_split(data_all, target, test_size=0.25,\n",
    "                                                                    random_state=0, shuffle= False)\n",
    "\n",
    "model.fit(data_all_train, target_train)\n",
    "target_predicted = model.predict(data_all_test)\n",
    "mse = mean_squared_error(target_test, target_predicted)\n",
    "mae = mean_absolute_error(target_test, target_predicted)"
   ]
  },
  {
   "cell_type": "code",
   "execution_count": 28,
   "id": "4a5b4bd1",
   "metadata": {},
   "outputs": [
    {
     "name": "stdout",
     "output_type": "stream",
     "text": [
      "MSE: 0.1615630164984179. MAE: 0.33647229472512213\n"
     ]
    }
   ],
   "source": [
    "print('MSE: '+str(mse)+'. MAE: '+str(mae))"
   ]
  },
  {
   "cell_type": "code",
   "execution_count": 29,
   "id": "e71ba739",
   "metadata": {},
   "outputs": [
    {
     "data": {
      "text/plain": [
       "[<matplotlib.lines.Line2D at 0x7f51649d9580>]"
      ]
     },
     "execution_count": 29,
     "metadata": {},
     "output_type": "execute_result"
    },
    {
     "data": {
      "image/png": "[encoded data removed]",
      "text/plain": [
       "<Figure size 432x288 with 1 Axes>"
      ]
     },
     "metadata": {
      "needs_background": "light"
     },
     "output_type": "display_data"
    }
   ],
   "source": [
    "plt.plot(target_test['Altura [m]'].values, color= 'b'); plt.plot(target_predicted, color='r')"
   ]
  },
  {
   "cell_type": "markdown",
   "id": "531d5531",
   "metadata": {},
   "source": [
    "En principio no vemos mejoras agregando más variables. Seguimos solamente con lluvia y napa por ahora, y hacemos feature engineering"
   ]
  },
  {
   "cell_type": "markdown",
   "id": "a50283d7",
   "metadata": {},
   "source": [
    "#### Feature engineering"
   ]
  },
  {
   "cell_type": "markdown",
   "id": "926e2fcf",
   "metadata": {},
   "source": [
    "Los valores de altura del rio actuales van a depender de los valores anteriores, veamos la autocorrelación de la altura con si misma lageada:"
   ]
  },
  {
   "cell_type": "code",
   "execution_count": 30,
   "id": "abd02c0a",
   "metadata": {},
   "outputs": [
    {
     "data": {
      "image/png": "[encoded data removed]",
      "text/plain": [
       "<Figure size 432x288 with 1 Axes>"
      ]
     },
     "execution_count": 30,
     "metadata": {},
     "output_type": "execute_result"
    },
    {
     "data": {
      "image/png": "[encoded data removed]",
      "text/plain": [
       "<Figure size 432x288 with 1 Axes>"
      ]
     },
     "metadata": {
      "needs_background": "light"
     },
     "output_type": "display_data"
    },
    {
     "data": {
      "image/png": "[encoded data removed]",
      "text/plain": [
       "<Figure size 432x288 with 1 Axes>"
      ]
     },
     "metadata": {
      "needs_background": "light"
     },
     "output_type": "display_data"
    }
   ],
   "source": [
    "from statsmodels.graphics.tsaplots import plot_acf\n",
    "from statsmodels.graphics.tsaplots import plot_pacf\n",
    "\n",
    "plot_acf(target, lags=10)\n",
    "plot_pacf(target, lags=10)"
   ]
  },
  {
   "cell_type": "markdown",
   "id": "e5ee1bfa",
   "metadata": {},
   "source": [
    "El solo hecho de agregar la altura del río en la hora anterior debería mejorar el modelo notablemente"
   ]
  },
  {
   "cell_type": "code",
   "execution_count": 31,
   "id": "730ce39b",
   "metadata": {},
   "outputs": [],
   "source": [
    "# Construimos nuestro dataframe de datos\n",
    "target = datos_2['Dique Aforador']\n",
    "data = pd.concat([datos_2['Justiniano Posse'][['Registro de Lluvia [mm]', 'Nivel de Napa Freática [cm]']], \n",
    "               datos_2['Monte Buey'][['Registro de Lluvia [mm]', 'Nivel de Napa Freática [cm]']] ] +\n",
    "                [target.shift(n) for n in range(1,24)] , axis=1)\n",
    "\n",
    "# tomamos desde el timestep 23 en adelante\n",
    "target_shift = target.iloc[23:]\n",
    "data_shift = data.iloc[23:]"
   ]
  },
  {
   "cell_type": "code",
   "execution_count": 32,
   "id": "da472d8e",
   "metadata": {},
   "outputs": [
    {
     "name": "stdout",
     "output_type": "stream",
     "text": [
      "MSE: 3.115201870095595e-05. MAE: 0.003952196323351753\n"
     ]
    },
    {
     "data": {
      "text/plain": [
       "[<matplotlib.lines.Line2D at 0x7f51543627f0>]"
      ]
     },
     "execution_count": 32,
     "metadata": {},
     "output_type": "execute_result"
    },
    {
     "data": {
      "image/png": "[encoded data removed]",
      "text/plain": [
       "<Figure size 432x288 with 1 Axes>"
      ]
     },
     "metadata": {
      "needs_background": "light"
     },
     "output_type": "display_data"
    }
   ],
   "source": [
    "# Definimos el modelo\n",
    "model = make_pipeline(StandardScaler(),  LinearRegression())\n",
    "\n",
    "# Hacemos un split de datos y modelamos. Calculamos los errores medios\n",
    "data_train, data_test, target_train, target_test = train_test_split(data_shift, target_shift, test_size=0.25,\n",
    "                                                                    random_state=0, shuffle= False)\n",
    "\n",
    "model.fit(data_train, target_train)\n",
    "target_predicted = model.predict(data_test)\n",
    "mse = mean_squared_error(target_test, target_predicted)\n",
    "mae = mean_absolute_error(target_test, target_predicted)\n",
    "\n",
    "print('MSE: '+str(mse)+'. MAE: '+str(mae))\n",
    "\n",
    "plt.plot(target_test['Altura [m]'].values, color= 'b'); plt.plot(target_predicted, color='r')"
   ]
  },
  {
   "cell_type": "code",
   "execution_count": 33,
   "id": "cf712cda",
   "metadata": {},
   "outputs": [
    {
     "name": "stdout",
     "output_type": "stream",
     "text": [
      "MSE: 0.009138498214035508. MAE: 0.07771217519847677\n"
     ]
    },
    {
     "data": {
      "text/plain": [
       "[<matplotlib.lines.Line2D at 0x7f51542de460>]"
      ]
     },
     "execution_count": 33,
     "metadata": {},
     "output_type": "execute_result"
    },
    {
     "data": {
      "image/png": "[encoded data removed]",
      "text/plain": [
       "<Figure size 432x288 with 1 Axes>"
      ]
     },
     "metadata": {
      "needs_background": "light"
     },
     "output_type": "display_data"
    }
   ],
   "source": [
    "# Construimos nuestro dataframe de datos\n",
    "target = datos_2['Dique Aforador']\n",
    "data = pd.concat([datos_2['Justiniano Posse'][['Registro de Lluvia [mm]', 'Nivel de Napa Freática [cm]']], \n",
    "               datos_2['Monte Buey'][['Registro de Lluvia [mm]', 'Nivel de Napa Freática [cm]']] ] +\n",
    "                [target.shift(n) for n in range(24,36)] , axis=1)\n",
    "\n",
    "# tomamos desde el timestep 23 en adelante\n",
    "target_shift = target.iloc[36:]\n",
    "data_shift = data.iloc[36:]\n",
    "\n",
    "# Definimos el modelo\n",
    "model = make_pipeline(StandardScaler(),  LinearRegression())\n",
    "\n",
    "# Hacemos un split de datos y modelamos. Calculamos los errores medios\n",
    "data_train, data_test, target_train, target_test = train_test_split(data_shift, target_shift, test_size=0.25,\n",
    "                                                                    random_state=0, shuffle= False)\n",
    "\n",
    "model.fit(data_train, target_train)\n",
    "target_predicted = model.predict(data_test)\n",
    "mse = mean_squared_error(target_test, target_predicted)\n",
    "mae = mean_absolute_error(target_test, target_predicted)\n",
    "\n",
    "print('MSE: '+str(mse)+'. MAE: '+str(mae))\n",
    "\n",
    "plt.plot(target_test['Altura [m]'].values, color= 'b'); plt.plot(target_predicted, color='r')"
   ]
  },
  {
   "cell_type": "markdown",
   "id": "b65db7f0",
   "metadata": {},
   "source": [
    "Evidentemente la altura del río no varía tanto en el intervalo de unas horas y la predicción es casi perfecta teniendo los datos anteriores"
   ]
  },
  {
   "cell_type": "markdown",
   "id": "893f424e",
   "metadata": {},
   "source": [
    "Volvamos a intentar hacer las predicciones con datos con lag y rolling de lluvia y altura de napa"
   ]
  },
  {
   "cell_type": "code",
   "execution_count": 34,
   "id": "68abf2fa",
   "metadata": {},
   "outputs": [],
   "source": [
    "# Construimos nuestro dataframe de datos\n",
    "target = datos_2['Dique Aforador']\n",
    "data = pd.concat([datos_2['Justiniano Posse'][['Registro de Lluvia [mm]', 'Nivel de Napa Freática [cm]']], \n",
    "               datos_2['Monte Buey'][['Registro de Lluvia [mm]', 'Nivel de Napa Freática [cm]']] ], axis=1)\n",
    "\n",
    "# tomamos desde el timestep 23 en adelante, creando features lageadas y rolleadas\n",
    "target_shift = target.iloc[24:]\n",
    "data_shift = pd.concat([data.shift(n) for n in range(24)]+\\\n",
    "                       [data['Registro de Lluvia [mm]'].rolling(n).sum() for n in range(2,24)]+\\\n",
    "                       [data['Nivel de Napa Freática [cm]'].rolling(n).mean() for n in range(2,24)], axis=1) .iloc[24:]\n",
    "\n"
   ]
  },
  {
   "cell_type": "code",
   "execution_count": 35,
   "id": "37e7e108",
   "metadata": {},
   "outputs": [
    {
     "name": "stdout",
     "output_type": "stream",
     "text": [
      "MSE: 0.1500653836920651. MAE: 0.3161940337277745\n"
     ]
    },
    {
     "data": {
      "text/plain": [
       "[<matplotlib.lines.Line2D at 0x7f515424d730>]"
      ]
     },
     "execution_count": 35,
     "metadata": {},
     "output_type": "execute_result"
    },
    {
     "data": {
      "image/png": "[encoded data removed]",
      "text/plain": [
       "<Figure size 432x288 with 1 Axes>"
      ]
     },
     "metadata": {
      "needs_background": "light"
     },
     "output_type": "display_data"
    }
   ],
   "source": [
    "\n",
    "# Definimos el modelo\n",
    "model = make_pipeline(StandardScaler(),  LinearRegression())\n",
    "\n",
    "# Hacemos un split de datos y modelamos. Calculamos los errores medios\n",
    "data_train, data_test, target_train, target_test = train_test_split(data_shift, target_shift, test_size=0.25,\n",
    "                                                                    random_state=0, shuffle= False)\n",
    "\n",
    "model.fit(data_train, target_train)\n",
    "target_predicted = model.predict(data_test)\n",
    "mse = mean_squared_error(target_test, target_predicted)\n",
    "mae = mean_absolute_error(target_test, target_predicted)\n",
    "\n",
    "print('MSE: '+str(mse)+'. MAE: '+str(mae))\n",
    "\n",
    "plt.plot(target_test['Altura [m]'].values, color= 'b'); plt.plot(target_predicted, color='r')"
   ]
  },
  {
   "cell_type": "markdown",
   "id": "a4d72409",
   "metadata": {},
   "source": [
    "Probamos regularizando el modelo lineal, usando Ridge"
   ]
  },
  {
   "cell_type": "code",
   "execution_count": 36,
   "id": "ed6f554f",
   "metadata": {
    "scrolled": true
   },
   "outputs": [
    {
     "name": "stdout",
     "output_type": "stream",
     "text": [
      "MSE: 0.13818271458820822. MAE: 0.30790910480191486\n"
     ]
    },
    {
     "data": {
      "text/plain": [
       "[<matplotlib.lines.Line2D at 0x7f5154136e80>]"
      ]
     },
     "execution_count": 36,
     "metadata": {},
     "output_type": "execute_result"
    },
    {
     "data": {
      "image/png": "[encoded data removed]",
      "text/plain": [
       "<Figure size 432x288 with 1 Axes>"
      ]
     },
     "metadata": {
      "needs_background": "light"
     },
     "output_type": "display_data"
    }
   ],
   "source": [
    "# Definimos el modelo\n",
    "from sklearn.linear_model import Ridge\n",
    "\n",
    "model = make_pipeline(StandardScaler(),  Ridge(alpha=100))\n",
    "\n",
    "# Hacemos un split de datos y modelamos. Calculamos los errores medios\n",
    "data_train, data_test, target_train, target_test = train_test_split(data_shift, target_shift, test_size=0.25,\n",
    "                                                                    random_state=0, shuffle= False)\n",
    "\n",
    "model.fit(data_train, target_train)\n",
    "target_predicted = model.predict(data_test)\n",
    "mse = mean_squared_error(target_test, target_predicted)\n",
    "mae = mean_absolute_error(target_test, target_predicted)\n",
    "\n",
    "print('MSE: '+str(mse)+'. MAE: '+str(mae))\n",
    "\n",
    "plt.plot(target_test['Altura [m]'].values, color= 'b'); plt.plot(target_predicted, color='r')"
   ]
  },
  {
   "cell_type": "markdown",
   "id": "f8369eb3",
   "metadata": {},
   "source": [
    "### Probamos con otros modelos"
   ]
  },
  {
   "cell_type": "markdown",
   "id": "7e8e89fc",
   "metadata": {},
   "source": [
    "Probemos con Random forest regressor"
   ]
  },
  {
   "cell_type": "code",
   "execution_count": 37,
   "id": "b204dc66",
   "metadata": {},
   "outputs": [
    {
     "name": "stderr",
     "output_type": "stream",
     "text": [
      "/home/julian.giles/anaconda3/envs/work5/lib/python3.9/site-packages/sklearn/pipeline.py:346: DataConversionWarning: A column-vector y was passed when a 1d array was expected. Please change the shape of y to (n_samples,), for example using ravel().\n",
      "  self._final_estimator.fit(Xt, y, **fit_params_last_step)\n"
     ]
    },
    {
     "name": "stdout",
     "output_type": "stream",
     "text": [
      "MSE: 0.053054932799051234. MAE: 0.1870387280925831\n"
     ]
    },
    {
     "data": {
      "text/plain": [
       "[<matplotlib.lines.Line2D at 0x7f514ac6d8b0>]"
      ]
     },
     "execution_count": 37,
     "metadata": {},
     "output_type": "execute_result"
    },
    {
     "data": {
      "image/png": "[encoded data removed]",
      "text/plain": [
       "<Figure size 432x288 with 1 Axes>"
      ]
     },
     "metadata": {
      "needs_background": "light"
     },
     "output_type": "display_data"
    }
   ],
   "source": [
    "# Definimos el modelo\n",
    "from sklearn.ensemble import RandomForestRegressor\n",
    "model = make_pipeline(StandardScaler(),  RandomForestRegressor())\n",
    "\n",
    "model.fit(data_train, target_train)\n",
    "target_predicted = model.predict(data_test)\n",
    "mse = mean_squared_error(target_test, target_predicted)\n",
    "mae = mean_absolute_error(target_test, target_predicted)\n",
    "\n",
    "print('MSE: '+str(mse)+'. MAE: '+str(mae))\n",
    "\n",
    "plt.plot(target_test['Altura [m]'].values, color= 'b'); plt.plot(target_predicted, color='r')"
   ]
  },
  {
   "cell_type": "markdown",
   "id": "60183d4c",
   "metadata": {},
   "source": [
    "Probamos con Support Vector Machines"
   ]
  },
  {
   "cell_type": "code",
   "execution_count": 38,
   "id": "02a55804",
   "metadata": {},
   "outputs": [
    {
     "name": "stderr",
     "output_type": "stream",
     "text": [
      "/home/julian.giles/anaconda3/envs/work5/lib/python3.9/site-packages/sklearn/utils/validation.py:63: DataConversionWarning: A column-vector y was passed when a 1d array was expected. Please change the shape of y to (n_samples, ), for example using ravel().\n",
      "  return f(*args, **kwargs)\n"
     ]
    },
    {
     "name": "stdout",
     "output_type": "stream",
     "text": [
      "MSE: 0.2927742359483881. MAE: 0.3796944907209382\n"
     ]
    },
    {
     "data": {
      "text/plain": [
       "[<matplotlib.lines.Line2D at 0x7f514abf34f0>]"
      ]
     },
     "execution_count": 38,
     "metadata": {},
     "output_type": "execute_result"
    },
    {
     "data": {
      "image/png": "[encoded data removed]",
      "text/plain": [
       "<Figure size 432x288 with 1 Axes>"
      ]
     },
     "metadata": {
      "needs_background": "light"
     },
     "output_type": "display_data"
    }
   ],
   "source": [
    "from sklearn.svm import SVR\n",
    "\n",
    "svr_rbf = SVR(kernel=\"rbf\", C=100, gamma=0.1, epsilon=0.1)\n",
    "svr_poly = SVR(kernel=\"poly\", C=100, gamma=\"auto\", degree=3, epsilon=0.1, coef0=1)\n",
    "\n",
    "model = make_pipeline(StandardScaler(),  svr_rbf)\n",
    "\n",
    "model.fit(data_train, target_train)\n",
    "target_predicted = model.predict(data_test)\n",
    "mse = mean_squared_error(target_test, target_predicted)\n",
    "mae = mean_absolute_error(target_test, target_predicted)\n",
    "\n",
    "print('MSE: '+str(mse)+'. MAE: '+str(mae))\n",
    "\n",
    "plt.plot(target_test['Altura [m]'].values, color= 'b'); plt.plot(target_predicted, color='r')"
   ]
  },
  {
   "cell_type": "markdown",
   "id": "5e9b456e",
   "metadata": {},
   "source": [
    "Probemos ajustar los parametros de random forest"
   ]
  },
  {
   "cell_type": "code",
   "execution_count": 45,
   "id": "301735dd",
   "metadata": {},
   "outputs": [
    {
     "name": "stdout",
     "output_type": "stream",
     "text": [
      "Fitting 1 folds for each of 10 candidates, totalling 10 fits\n"
     ]
    },
    {
     "name": "stderr",
     "output_type": "stream",
     "text": [
      "/home/julian.giles/anaconda3/envs/work5/lib/python3.9/site-packages/sklearn/pipeline.py:346: DataConversionWarning: A column-vector y was passed when a 1d array was expected. Please change the shape of y to (n_samples,), for example using ravel().\n",
      "  self._final_estimator.fit(Xt, y, **fit_params_last_step)\n",
      "/home/julian.giles/anaconda3/envs/work5/lib/python3.9/site-packages/sklearn/pipeline.py:346: DataConversionWarning: A column-vector y was passed when a 1d array was expected. Please change the shape of y to (n_samples,), for example using ravel().\n",
      "  self._final_estimator.fit(Xt, y, **fit_params_last_step)\n",
      "/home/julian.giles/anaconda3/envs/work5/lib/python3.9/site-packages/sklearn/pipeline.py:346: DataConversionWarning: A column-vector y was passed when a 1d array was expected. Please change the shape of y to (n_samples,), for example using ravel().\n",
      "  self._final_estimator.fit(Xt, y, **fit_params_last_step)\n",
      "/home/julian.giles/anaconda3/envs/work5/lib/python3.9/site-packages/sklearn/pipeline.py:346: DataConversionWarning: A column-vector y was passed when a 1d array was expected. Please change the shape of y to (n_samples,), for example using ravel().\n",
      "  self._final_estimator.fit(Xt, y, **fit_params_last_step)\n",
      "/home/julian.giles/anaconda3/envs/work5/lib/python3.9/site-packages/sklearn/pipeline.py:346: DataConversionWarning: A column-vector y was passed when a 1d array was expected. Please change the shape of y to (n_samples,), for example using ravel().\n",
      "  self._final_estimator.fit(Xt, y, **fit_params_last_step)\n",
      "/home/julian.giles/anaconda3/envs/work5/lib/python3.9/site-packages/sklearn/pipeline.py:346: DataConversionWarning: A column-vector y was passed when a 1d array was expected. Please change the shape of y to (n_samples,), for example using ravel().\n",
      "  self._final_estimator.fit(Xt, y, **fit_params_last_step)\n",
      "/home/julian.giles/anaconda3/envs/work5/lib/python3.9/site-packages/sklearn/pipeline.py:346: DataConversionWarning: A column-vector y was passed when a 1d array was expected. Please change the shape of y to (n_samples,), for example using ravel().\n",
      "  self._final_estimator.fit(Xt, y, **fit_params_last_step)\n",
      "/home/julian.giles/anaconda3/envs/work5/lib/python3.9/site-packages/sklearn/pipeline.py:346: DataConversionWarning: A column-vector y was passed when a 1d array was expected. Please change the shape of y to (n_samples,), for example using ravel().\n",
      "  self._final_estimator.fit(Xt, y, **fit_params_last_step)\n",
      "/home/julian.giles/anaconda3/envs/work5/lib/python3.9/site-packages/sklearn/pipeline.py:346: DataConversionWarning: A column-vector y was passed when a 1d array was expected. Please change the shape of y to (n_samples,), for example using ravel().\n",
      "  self._final_estimator.fit(Xt, y, **fit_params_last_step)\n",
      "/home/julian.giles/anaconda3/envs/work5/lib/python3.9/site-packages/sklearn/pipeline.py:346: DataConversionWarning: A column-vector y was passed when a 1d array was expected. Please change the shape of y to (n_samples,), for example using ravel().\n",
      "  self._final_estimator.fit(Xt, y, **fit_params_last_step)\n",
      "/home/julian.giles/anaconda3/envs/work5/lib/python3.9/site-packages/sklearn/pipeline.py:346: DataConversionWarning: A column-vector y was passed when a 1d array was expected. Please change the shape of y to (n_samples,), for example using ravel().\n",
      "  self._final_estimator.fit(Xt, y, **fit_params_last_step)\n"
     ]
    },
    {
     "data": {
      "text/plain": [
       "RandomizedSearchCV(cv=[(slice(None, None, None), slice(None, None, None))],\n",
       "                   estimator=Pipeline(steps=[('standardscaler',\n",
       "                                              StandardScaler()),\n",
       "                                             ('randomforestregressor',\n",
       "                                              RandomForestRegressor(n_jobs=5))]),\n",
       "                   param_distributions={'randomforestregressor__n_estimators': array([ 20,  21,  22,  23,  24,  25,  26,  27,  28,  29,  30,  31,  32,\n",
       "        33,  34,  35,  36,  37,  38,  39,  40,  41,  42,  43,  44,  45,\n",
       "        46,  47,  48,  49,  50...\n",
       "       111, 112, 113, 114, 115, 116, 117, 118, 119, 120, 121, 122, 123,\n",
       "       124, 125, 126, 127, 128, 129, 130, 131, 132, 133, 134, 135, 136,\n",
       "       137, 138, 139, 140, 141, 142, 143, 144, 145, 146, 147, 148, 149,\n",
       "       150, 151, 152, 153, 154, 155, 156, 157, 158, 159, 160, 161, 162,\n",
       "       163, 164, 165, 166, 167, 168, 169, 170, 171, 172, 173, 174, 175,\n",
       "       176, 177, 178, 179, 180, 181, 182, 183, 184, 185, 186, 187, 188,\n",
       "       189, 190, 191, 192, 193, 194, 195, 196, 197, 198, 199])},\n",
       "                   verbose=1)"
      ]
     },
     "execution_count": 45,
     "metadata": {},
     "output_type": "execute_result"
    }
   ],
   "source": [
    "# probamos cual es la profundidad optima y la cantidad de arboles\n",
    "from sklearn.model_selection import RandomizedSearchCV\n",
    "\n",
    "model = make_pipeline(StandardScaler(),  RandomForestRegressor(n_jobs=5))\n",
    "\n",
    "param_distributions = {\n",
    "    'randomforestregressor__n_estimators': np.arange(20,200),\n",
    "}\n",
    "\n",
    "model_random_search = RandomizedSearchCV(\n",
    "    model, param_distributions=param_distributions, n_iter=10,\n",
    "    cv=[(slice(None), slice(None))], verbose=1)\n",
    "\n",
    "model_random_search.fit(data_train, target_train)\n"
   ]
  },
  {
   "cell_type": "code",
   "execution_count": 46,
   "id": "8b8da800",
   "metadata": {},
   "outputs": [
    {
     "data": {
      "text/plain": [
       "Pipeline(steps=[('standardscaler', StandardScaler()),\n",
       "                ('randomforestregressor',\n",
       "                 RandomForestRegressor(n_estimators=106, n_jobs=5))])"
      ]
     },
     "execution_count": 46,
     "metadata": {},
     "output_type": "execute_result"
    }
   ],
   "source": [
    "model_random_search.best_estimator_"
   ]
  },
  {
   "cell_type": "code",
   "execution_count": 48,
   "id": "d02933a2",
   "metadata": {
    "scrolled": true
   },
   "outputs": [
    {
     "name": "stdout",
     "output_type": "stream",
     "text": [
      "MSE: 0.053618492199958116. MAE: 0.18785108691354788\n"
     ]
    },
    {
     "data": {
      "text/plain": [
       "[<matplotlib.lines.Line2D at 0x7f5154381640>]"
      ]
     },
     "execution_count": 48,
     "metadata": {},
     "output_type": "execute_result"
    },
    {
     "data": {
      "image/png": "[encoded data removed]",
      "text/plain": [
       "<Figure size 432x288 with 1 Axes>"
      ]
     },
     "metadata": {
      "needs_background": "light"
     },
     "output_type": "display_data"
    }
   ],
   "source": [
    "target_predicted = model_random_search.predict(data_test)\n",
    "mse = mean_squared_error(target_test, target_predicted)\n",
    "mae = mean_absolute_error(target_test, target_predicted)\n",
    "\n",
    "print('MSE: '+str(mse)+'. MAE: '+str(mae))\n",
    "\n",
    "plt.plot(target_test['Altura [m]'].values, color= 'b'); plt.plot(target_predicted, color='r')"
   ]
  },
  {
   "cell_type": "markdown",
   "id": "7e7a2974",
   "metadata": {},
   "source": [
    "El numero de arboles optimos esta cerca del default y no vemos mejora tuneando ese parametro."
   ]
  },
  {
   "cell_type": "markdown",
   "id": "4bf11b81",
   "metadata": {},
   "source": [
    "#### Probemos agregando datos de ERA5"
   ]
  },
  {
   "cell_type": "code",
   "execution_count": 77,
   "id": "2deda4bc",
   "metadata": {},
   "outputs": [],
   "source": [
    "lugar = 'Dique Aforador'\n",
    "lugar_lat = ubicaciones.loc[ubicaciones['nombre']==lugar]['lat'][0]\n",
    "lugar_lon = ubicaciones.loc[ubicaciones['nombre']==lugar]['lon'][0]\n",
    "\n",
    "era5_land_lugar = era5land_adjusted_ds.loc[{'time':slice(str(data_shift.index[0]), str(data_shift.index[-1])),\n",
    "                                            'latitude':slice(lugar_lat+0.3, lugar_lat-0.3),\n",
    "                                            'longitude':slice(lugar_lon-0.3, lugar_lon+0.3)}]"
   ]
  },
  {
   "cell_type": "code",
   "execution_count": 81,
   "id": "321add58",
   "metadata": {
    "scrolled": true
   },
   "outputs": [
    {
     "data": {
      "text/html": [
       "<div>\n",
       "<style scoped>\n",
       "    .dataframe tbody tr th:only-of-type {\n",
       "        vertical-align: middle;\n",
       "    }\n",
       "\n",
       "    .dataframe tbody tr th {\n",
       "        vertical-align: top;\n",
       "    }\n",
       "\n",
       "    .dataframe thead th {\n",
       "        text-align: right;\n",
       "    }\n",
       "</style>\n",
       "<table border=\"1\" class=\"dataframe\">\n",
       "  <thead>\n",
       "    <tr style=\"text-align: right;\">\n",
       "      <th></th>\n",
       "      <th></th>\n",
       "      <th></th>\n",
       "      <th>lai_hv</th>\n",
       "      <th>lai_lv</th>\n",
       "      <th>ro</th>\n",
       "      <th>sp</th>\n",
       "      <th>sro</th>\n",
       "      <th>swvl1</th>\n",
       "      <th>swvl2</th>\n",
       "      <th>swvl3</th>\n",
       "      <th>swvl4</th>\n",
       "      <th>tp</th>\n",
       "      <th>u10</th>\n",
       "      <th>v10</th>\n",
       "    </tr>\n",
       "    <tr>\n",
       "      <th>latitude</th>\n",
       "      <th>longitude</th>\n",
       "      <th>time</th>\n",
       "      <th></th>\n",
       "      <th></th>\n",
       "      <th></th>\n",
       "      <th></th>\n",
       "      <th></th>\n",
       "      <th></th>\n",
       "      <th></th>\n",
       "      <th></th>\n",
       "      <th></th>\n",
       "      <th></th>\n",
       "      <th></th>\n",
       "      <th></th>\n",
       "    </tr>\n",
       "  </thead>\n",
       "  <tbody>\n",
       "    <tr>\n",
       "      <th rowspan=\"5\" valign=\"top\">-32.700001</th>\n",
       "      <th rowspan=\"5\" valign=\"top\">-62.599998</th>\n",
       "      <th>2020-06-02 00:00:00</th>\n",
       "      <td>1.200678</td>\n",
       "      <td>2.458258</td>\n",
       "      <td>0.000000e+00</td>\n",
       "      <td>100855.210938</td>\n",
       "      <td>0.0</td>\n",
       "      <td>0.164365</td>\n",
       "      <td>0.195316</td>\n",
       "      <td>0.209211</td>\n",
       "      <td>0.228910</td>\n",
       "      <td>0.000000e+00</td>\n",
       "      <td>-0.252681</td>\n",
       "      <td>-2.208900</td>\n",
       "    </tr>\n",
       "    <tr>\n",
       "      <th>2020-06-02 01:00:00</th>\n",
       "      <td>1.200678</td>\n",
       "      <td>2.458258</td>\n",
       "      <td>0.000000e+00</td>\n",
       "      <td>100812.484375</td>\n",
       "      <td>0.0</td>\n",
       "      <td>0.164388</td>\n",
       "      <td>0.195296</td>\n",
       "      <td>0.209211</td>\n",
       "      <td>0.228910</td>\n",
       "      <td>0.000000e+00</td>\n",
       "      <td>-0.142075</td>\n",
       "      <td>-2.255073</td>\n",
       "    </tr>\n",
       "    <tr>\n",
       "      <th>2020-06-02 02:00:00</th>\n",
       "      <td>1.200678</td>\n",
       "      <td>2.458258</td>\n",
       "      <td>0.000000e+00</td>\n",
       "      <td>100770.828125</td>\n",
       "      <td>0.0</td>\n",
       "      <td>0.164399</td>\n",
       "      <td>0.195296</td>\n",
       "      <td>0.209211</td>\n",
       "      <td>0.228910</td>\n",
       "      <td>0.000000e+00</td>\n",
       "      <td>-0.085866</td>\n",
       "      <td>-2.211232</td>\n",
       "    </tr>\n",
       "    <tr>\n",
       "      <th>2020-06-02 03:00:00</th>\n",
       "      <td>1.200678</td>\n",
       "      <td>2.458258</td>\n",
       "      <td>9.909272e-10</td>\n",
       "      <td>100753.234375</td>\n",
       "      <td>0.0</td>\n",
       "      <td>0.164410</td>\n",
       "      <td>0.195286</td>\n",
       "      <td>0.209211</td>\n",
       "      <td>0.228910</td>\n",
       "      <td>0.000000e+00</td>\n",
       "      <td>-0.167823</td>\n",
       "      <td>-2.146870</td>\n",
       "    </tr>\n",
       "    <tr>\n",
       "      <th>2020-06-02 04:00:00</th>\n",
       "      <td>1.200678</td>\n",
       "      <td>2.458258</td>\n",
       "      <td>0.000000e+00</td>\n",
       "      <td>100750.718750</td>\n",
       "      <td>0.0</td>\n",
       "      <td>0.164433</td>\n",
       "      <td>0.195266</td>\n",
       "      <td>0.209211</td>\n",
       "      <td>0.228910</td>\n",
       "      <td>0.000000e+00</td>\n",
       "      <td>-0.289671</td>\n",
       "      <td>-2.255539</td>\n",
       "    </tr>\n",
       "    <tr>\n",
       "      <th>...</th>\n",
       "      <th>...</th>\n",
       "      <th>...</th>\n",
       "      <td>...</td>\n",
       "      <td>...</td>\n",
       "      <td>...</td>\n",
       "      <td>...</td>\n",
       "      <td>...</td>\n",
       "      <td>...</td>\n",
       "      <td>...</td>\n",
       "      <td>...</td>\n",
       "      <td>...</td>\n",
       "      <td>...</td>\n",
       "      <td>...</td>\n",
       "      <td>...</td>\n",
       "    </tr>\n",
       "    <tr>\n",
       "      <th rowspan=\"5\" valign=\"top\">-33.200001</th>\n",
       "      <th rowspan=\"5\" valign=\"top\">-62.099998</th>\n",
       "      <th>2021-12-30 20:00:00</th>\n",
       "      <td>2.680146</td>\n",
       "      <td>2.136363</td>\n",
       "      <td>0.000000e+00</td>\n",
       "      <td>99590.789062</td>\n",
       "      <td>0.0</td>\n",
       "      <td>0.134854</td>\n",
       "      <td>0.162813</td>\n",
       "      <td>0.178313</td>\n",
       "      <td>0.208279</td>\n",
       "      <td>6.064773e-09</td>\n",
       "      <td>0.657204</td>\n",
       "      <td>1.949632</td>\n",
       "    </tr>\n",
       "    <tr>\n",
       "      <th>2021-12-30 21:00:00</th>\n",
       "      <td>2.680146</td>\n",
       "      <td>2.136363</td>\n",
       "      <td>0.000000e+00</td>\n",
       "      <td>99674.968750</td>\n",
       "      <td>0.0</td>\n",
       "      <td>0.134842</td>\n",
       "      <td>0.162813</td>\n",
       "      <td>0.178313</td>\n",
       "      <td>0.208279</td>\n",
       "      <td>0.000000e+00</td>\n",
       "      <td>0.829225</td>\n",
       "      <td>1.825550</td>\n",
       "    </tr>\n",
       "    <tr>\n",
       "      <th>2021-12-30 22:00:00</th>\n",
       "      <td>2.706148</td>\n",
       "      <td>2.153582</td>\n",
       "      <td>0.000000e+00</td>\n",
       "      <td>99737.570312</td>\n",
       "      <td>0.0</td>\n",
       "      <td>0.134831</td>\n",
       "      <td>0.162791</td>\n",
       "      <td>0.178313</td>\n",
       "      <td>0.208279</td>\n",
       "      <td>7.450581e-12</td>\n",
       "      <td>0.847923</td>\n",
       "      <td>1.959929</td>\n",
       "    </tr>\n",
       "    <tr>\n",
       "      <th>2021-12-30 23:00:00</th>\n",
       "      <td>2.706148</td>\n",
       "      <td>2.153582</td>\n",
       "      <td>0.000000e+00</td>\n",
       "      <td>99774.359375</td>\n",
       "      <td>0.0</td>\n",
       "      <td>0.134808</td>\n",
       "      <td>0.162791</td>\n",
       "      <td>0.178313</td>\n",
       "      <td>0.208279</td>\n",
       "      <td>0.000000e+00</td>\n",
       "      <td>0.784662</td>\n",
       "      <td>2.036643</td>\n",
       "    </tr>\n",
       "    <tr>\n",
       "      <th>2021-12-31 00:00:00</th>\n",
       "      <td>2.706148</td>\n",
       "      <td>2.153582</td>\n",
       "      <td>0.000000e+00</td>\n",
       "      <td>99763.750000</td>\n",
       "      <td>0.0</td>\n",
       "      <td>0.134797</td>\n",
       "      <td>0.162791</td>\n",
       "      <td>0.178313</td>\n",
       "      <td>0.208279</td>\n",
       "      <td>0.000000e+00</td>\n",
       "      <td>0.785285</td>\n",
       "      <td>1.958384</td>\n",
       "    </tr>\n",
       "  </tbody>\n",
       "</table>\n",
       "<p>498564 rows × 12 columns</p>\n",
       "</div>"
      ],
      "text/plain": [
       "                                             lai_hv    lai_lv            ro  \\\n",
       "latitude   longitude  time                                                    \n",
       "-32.700001 -62.599998 2020-06-02 00:00:00  1.200678  2.458258  0.000000e+00   \n",
       "                      2020-06-02 01:00:00  1.200678  2.458258  0.000000e+00   \n",
       "                      2020-06-02 02:00:00  1.200678  2.458258  0.000000e+00   \n",
       "                      2020-06-02 03:00:00  1.200678  2.458258  9.909272e-10   \n",
       "                      2020-06-02 04:00:00  1.200678  2.458258  0.000000e+00   \n",
       "...                                             ...       ...           ...   \n",
       "-33.200001 -62.099998 2021-12-30 20:00:00  2.680146  2.136363  0.000000e+00   \n",
       "                      2021-12-30 21:00:00  2.680146  2.136363  0.000000e+00   \n",
       "                      2021-12-30 22:00:00  2.706148  2.153582  0.000000e+00   \n",
       "                      2021-12-30 23:00:00  2.706148  2.153582  0.000000e+00   \n",
       "                      2021-12-31 00:00:00  2.706148  2.153582  0.000000e+00   \n",
       "\n",
       "                                                      sp  sro     swvl1  \\\n",
       "latitude   longitude  time                                                \n",
       "-32.700001 -62.599998 2020-06-02 00:00:00  100855.210938  0.0  0.164365   \n",
       "                      2020-06-02 01:00:00  100812.484375  0.0  0.164388   \n",
       "                      2020-06-02 02:00:00  100770.828125  0.0  0.164399   \n",
       "                      2020-06-02 03:00:00  100753.234375  0.0  0.164410   \n",
       "                      2020-06-02 04:00:00  100750.718750  0.0  0.164433   \n",
       "...                                                  ...  ...       ...   \n",
       "-33.200001 -62.099998 2021-12-30 20:00:00   99590.789062  0.0  0.134854   \n",
       "                      2021-12-30 21:00:00   99674.968750  0.0  0.134842   \n",
       "                      2021-12-30 22:00:00   99737.570312  0.0  0.134831   \n",
       "                      2021-12-30 23:00:00   99774.359375  0.0  0.134808   \n",
       "                      2021-12-31 00:00:00   99763.750000  0.0  0.134797   \n",
       "\n",
       "                                              swvl2     swvl3     swvl4  \\\n",
       "latitude   longitude  time                                                \n",
       "-32.700001 -62.599998 2020-06-02 00:00:00  0.195316  0.209211  0.228910   \n",
       "                      2020-06-02 01:00:00  0.195296  0.209211  0.228910   \n",
       "                      2020-06-02 02:00:00  0.195296  0.209211  0.228910   \n",
       "                      2020-06-02 03:00:00  0.195286  0.209211  0.228910   \n",
       "                      2020-06-02 04:00:00  0.195266  0.209211  0.228910   \n",
       "...                                             ...       ...       ...   \n",
       "-33.200001 -62.099998 2021-12-30 20:00:00  0.162813  0.178313  0.208279   \n",
       "                      2021-12-30 21:00:00  0.162813  0.178313  0.208279   \n",
       "                      2021-12-30 22:00:00  0.162791  0.178313  0.208279   \n",
       "                      2021-12-30 23:00:00  0.162791  0.178313  0.208279   \n",
       "                      2021-12-31 00:00:00  0.162791  0.178313  0.208279   \n",
       "\n",
       "                                                     tp       u10       v10  \n",
       "latitude   longitude  time                                                   \n",
       "-32.700001 -62.599998 2020-06-02 00:00:00  0.000000e+00 -0.252681 -2.208900  \n",
       "                      2020-06-02 01:00:00  0.000000e+00 -0.142075 -2.255073  \n",
       "                      2020-06-02 02:00:00  0.000000e+00 -0.085866 -2.211232  \n",
       "                      2020-06-02 03:00:00  0.000000e+00 -0.167823 -2.146870  \n",
       "                      2020-06-02 04:00:00  0.000000e+00 -0.289671 -2.255539  \n",
       "...                                                 ...       ...       ...  \n",
       "-33.200001 -62.099998 2021-12-30 20:00:00  6.064773e-09  0.657204  1.949632  \n",
       "                      2021-12-30 21:00:00  0.000000e+00  0.829225  1.825550  \n",
       "                      2021-12-30 22:00:00  7.450581e-12  0.847923  1.959929  \n",
       "                      2021-12-30 23:00:00  0.000000e+00  0.784662  2.036643  \n",
       "                      2021-12-31 00:00:00  0.000000e+00  0.785285  1.958384  \n",
       "\n",
       "[498564 rows x 12 columns]"
      ]
     },
     "execution_count": 81,
     "metadata": {},
     "output_type": "execute_result"
    }
   ],
   "source": [
    "era5_land_lugar.to_dataframe()"
   ]
  },
  {
   "cell_type": "code",
   "execution_count": null,
   "id": "345065fb",
   "metadata": {},
   "outputs": [],
   "source": []
  }
 ],
 "metadata": {
  "kernelspec": {
   "display_name": "Python 3",
   "language": "python",
   "name": "python3"
  },
  "language_info": {
   "codemirror_mode": {
    "name": "ipython",
    "version": 3
   },
   "file_extension": ".py",
   "mimetype": "text/x-python",
   "name": "python",
   "nbconvert_exporter": "python",
   "pygments_lexer": "ipython3",
   "version": "3.9.2"
  }
 },
 "nbformat": 4,
 "nbformat_minor": 5
}
